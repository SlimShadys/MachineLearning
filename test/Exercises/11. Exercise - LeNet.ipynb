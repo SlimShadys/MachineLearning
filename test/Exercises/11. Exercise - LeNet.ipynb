{
  "cells": [
    {
      "cell_type": "markdown",
      "metadata": {
        "id": "Z3GYzNWONtju"
      },
      "source": [
        "# Machine Learning Exercise 11\n",
        "\n",
        "# LeNet training\n",
        "\n"
      ]
    },
    {
      "cell_type": "markdown",
      "metadata": {
        "id": "eDEJU1RwoIlv"
      },
      "source": [
        "## Import \n",
        "\n",
        "Import libraries and print some versions.\n",
        "\n",
        "To use GPU, set `Edit / Notebook settings / Hardware accelerator` to **GPU**."
      ]
    },
    {
      "cell_type": "code",
      "source": [
        "import numpy as np\n",
        "import tensorflow as tf\n",
        "from tensorflow.keras.models import Sequential\n",
        "from tensorflow.keras.layers import Dense, Activation, Dropout, Flatten,\\\n",
        "                         Conv2D, MaxPooling2D, AveragePooling2D, BatchNormalization\n",
        "from tensorflow.keras import regularizers, optimizers\n",
        "import sklearn.metrics \n",
        "from sklearn.metrics import classification_report, confusion_matrix"
      ],
      "metadata": {
        "id": "U3gKIA7UC_d_"
      },
      "execution_count": 9,
      "outputs": []
    },
    {
      "cell_type": "code",
      "execution_count": 1,
      "metadata": {
        "colab": {
          "base_uri": "https://localhost:8080/"
        },
        "id": "BSKuPnIXNoq2",
        "outputId": "b00e244d-d627-4e86-a41e-47c29bc54cd1"
      },
      "outputs": [
        {
          "output_type": "stream",
          "name": "stdout",
          "text": [
            "Tensorflow version 2.9.2\n",
            "Num GPUs Available:  1\n",
            "Found GPU at: /device:GPU:0\n"
          ]
        }
      ],
      "source": [
        "print(\"Tensorflow version %s\" %tf.__version__)\n",
        "\n",
        "device_name = tf.test.gpu_device_name()\n",
        "print(\"Num GPUs Available: \", len(tf.config.list_physical_devices('GPU')))\n",
        "\n",
        "print('Found GPU at: {}'.format(device_name))"
      ]
    },
    {
      "cell_type": "markdown",
      "metadata": {
        "id": "KaeLRpWIfO1m"
      },
      "source": [
        "## Load data\n",
        "\n",
        "Load training data from Keras library\n",
        "\n",
        "\n"
      ]
    },
    {
      "cell_type": "code",
      "execution_count": 2,
      "metadata": {
        "colab": {
          "base_uri": "https://localhost:8080/"
        },
        "id": "7kECuF5cgxxW",
        "outputId": "13342fbc-227e-46e9-d974-ad77dc27d500"
      },
      "outputs": [
        {
          "output_type": "stream",
          "name": "stdout",
          "text": [
            "Downloading data from https://www.cs.toronto.edu/~kriz/cifar-10-python.tar.gz\n",
            "170498071/170498071 [==============================] - 2s 0us/step\n",
            "Training input (50000, 32, 32, 3)\n",
            "Training output (50000, 1)\n",
            "Test input (10000, 32, 32, 3)\n",
            "Test output (10000, 1)\n",
            "Input shape: (32, 32, 3)\n",
            "Number of classes: 10\n"
          ]
        }
      ],
      "source": [
        "def load_data(dataset_name):\n",
        "    # load data\n",
        "    if dataset_name == \"MNIST\":\n",
        "      (Xtrain,Ytrain), (Xtest, Ytest) = tf.keras.datasets.mnist.load_data()\n",
        "    elif dataset_name == \"FASHION_MNIST\":\n",
        "      (Xtrain,Ytrain), (Xtest, Ytest) = tf.keras.datasets.fashion_mnist.load_data()\n",
        "    elif dataset_name == \"CIFAR10\":\n",
        "      (Xtrain,Ytrain), (Xtest, Ytest) = tf.keras.datasets.cifar10.load_data()\n",
        "    else:\n",
        "      print(\"Dataset not available\")\n",
        "      return None\n",
        "\n",
        "    # get information\n",
        "    ninput = Xtrain.shape[0]\n",
        "    imgsize = (Xtrain.shape[1], Xtrain.shape[2])\n",
        "    if len(Xtrain.shape)==3:\n",
        "      image_depth=1\n",
        "    else:\n",
        "      image_depth=Xtrain.shape[3]\n",
        "\n",
        "    input_shape = (Xtrain.shape[1], Xtrain.shape[2], image_depth)\n",
        "    ntest = Xtest.shape[0]\n",
        "    num_classes = max(Ytrain) + 1\n",
        "    print(\"Training input %s\" %str(Xtrain.shape))\n",
        "    print(\"Training output %s\" %str(Ytrain.shape))\n",
        "    print(\"Test input %s\" %str(Xtest.shape))\n",
        "    print(\"Test output %s\" %str(Ytest.shape))\n",
        "    print(\"Input shape: %s\" %str(input_shape))\n",
        "    print(\"Number of classes: %d\" %num_classes)\n",
        "\n",
        "    # normalize input to [0,1]\n",
        "    Xtrain = Xtrain / 255.0\n",
        "    Xtest = Xtest / 255.0\n",
        "    # reshape input in 4D array\n",
        "    Xtrain = Xtrain.reshape(ninput,imgsize[0],imgsize[1],image_depth)\n",
        "    Xtest = Xtest.reshape(ntest,imgsize[0],imgsize[1],image_depth)\n",
        "        \n",
        "    return [Xtrain,Ytrain,Xtest,Ytest,input_shape,num_classes]\n",
        "\n",
        "\n",
        "dataset_name = \"CIFAR10\" # MNIST or FASHION_MNIST or CIFAR10\n",
        "[Xtrain,Ytrain,Xtest,Ytest,input_shape,num_classes] = load_data(dataset_name)"
      ]
    },
    {
      "cell_type": "markdown",
      "metadata": {
        "id": "R6DMvR8TzJiK"
      },
      "source": [
        "## Show random image\n",
        "\n"
      ]
    },
    {
      "cell_type": "code",
      "execution_count": 3,
      "metadata": {
        "colab": {
          "base_uri": "https://localhost:8080/",
          "height": 283
        },
        "id": "P0N3cUSazRcJ",
        "outputId": "f3cc693e-8094-4ab3-ccfb-e46689e8ead3"
      },
      "outputs": [
        {
          "output_type": "stream",
          "name": "stdout",
          "text": [
            "[9]\n"
          ]
        },
        {
          "output_type": "display_data",
          "data": {
            "text/plain": [
              "<Figure size 432x288 with 1 Axes>"
            ],
            "image/png": "[encoded data removed]"
          },
          "metadata": {
            "needs_background": "light"
          }
        }
      ],
      "source": [
        "import matplotlib.pyplot as plt\n",
        "import random\n",
        "\n",
        "i = random.randrange(0,Xtrain.shape[0])\n",
        "image = Xtrain[i]\n",
        "image = np.array(image, dtype='float')\n",
        "pixels = image.reshape((input_shape[0], input_shape[1], input_shape[2]))\n",
        "\n",
        "label = Ytrain[i]\n",
        "print(label)\n",
        "\n",
        "plt.imshow(pixels)\n",
        "plt.show()\n"
      ]
    },
    {
      "cell_type": "markdown",
      "metadata": {
        "id": "q1EwWO9m3bGg"
      },
      "source": [
        "##LeNet model\n"
      ]
    },
    {
      "cell_type": "code",
      "execution_count": 5,
      "metadata": {
        "colab": {
          "base_uri": "https://localhost:8080/"
        },
        "id": "1DTCwfVg3jRX",
        "outputId": "42fd25e5-d092-450f-c6f7-c7d150b4674c"
      },
      "outputs": [
        {
          "output_type": "stream",
          "name": "stdout",
          "text": [
            "\n",
            "LeNet model\n",
            "\tC1: Convolutional 6 kernels 5x5\n",
            "\tS2: Average Pooling 2x2 stride 2x2\n",
            "\tC3: Convolutional 16 kernels 5x5\n",
            "\tS4: Average Pooling 2x2 stride 2x2\n",
            "\tC5: Convolutional 120 kernels 5x5\n",
            "\tF6: Fully connected, 84 units\n",
            "\tF7: Fully connected, 10 units\n",
            "Model: \"sequential_1\"\n",
            "_________________________________________________________________\n",
            " Layer (type)                Output Shape              Param #   \n",
            "=================================================================\n",
            " conv2d_3 (Conv2D)           (None, 32, 32, 6)         456       \n",
            "                                                                 \n",
            " average_pooling2d_2 (Averag  (None, 16, 16, 6)        0         \n",
            " ePooling2D)                                                     \n",
            "                                                                 \n",
            " conv2d_4 (Conv2D)           (None, 12, 12, 16)        2416      \n",
            "                                                                 \n",
            " average_pooling2d_3 (Averag  (None, 6, 6, 16)         0         \n",
            " ePooling2D)                                                     \n",
            "                                                                 \n",
            " conv2d_5 (Conv2D)           (None, 2, 2, 120)         48120     \n",
            "                                                                 \n",
            " flatten_1 (Flatten)         (None, 480)               0         \n",
            "                                                                 \n",
            " dense_2 (Dense)             (None, 84)                40404     \n",
            "                                                                 \n",
            " dense_3 (Dense)             (None, 10)                850       \n",
            "                                                                 \n",
            "=================================================================\n",
            "Total params: 92,246\n",
            "Trainable params: 92,246\n",
            "Non-trainable params: 0\n",
            "_________________________________________________________________\n"
          ]
        }
      ],
      "source": [
        "def LeNet(input_shape, num_classes):\n",
        "    \n",
        "    print('\\nLeNet model')\n",
        "    model = Sequential()\n",
        "    \n",
        "    print('\\tC1: Convolutional 6 kernels 5x5')\n",
        "    # With padding='same' we specify that the output of this Conv2D will be a 32 x 32 x 6 tensor\n",
        "    # With padding='valid' we specify that the output of a Conv2D will depend on the size of the kernel\n",
        "    model.add(Conv2D(6, kernel_size=(5, 5), strides=(1, 1), activation='tanh', input_shape=input_shape, padding='same'))\n",
        "\n",
        "    print('\\tS2: Average Pooling 2x2 stride 2x2')\n",
        "    # This AvgPooling, returns a tensor with size 16 x 16 x 6\n",
        "    # Note the \"valid\" padding value as well.\n",
        "    model.add(AveragePooling2D(pool_size=(2, 2), strides=(2, 2), padding='valid'))\n",
        "\n",
        "    print('\\tC3: Convolutional 16 kernels 5x5')\n",
        "    # Simple Conv2D layer with which returns a tensor with size 12 x 12 x 16\n",
        "    model.add(Conv2D(16, kernel_size=(5, 5), strides=(1, 1), activation='tanh', padding='valid'))\n",
        "\n",
        "    print('\\tS4: Average Pooling 2x2 stride 2x2')\n",
        "    # This AvgPooling, returns a tensor with size 6 x 6 x 16\n",
        "    model.add(AveragePooling2D(pool_size=(2, 2), strides=(2, 2), padding='valid'))\n",
        "\n",
        "    print('\\tC5: Convolutional 120 kernels 5x5')\n",
        "    # Simple Conv2D layer with which returns a tensor with size 2 x 2 x 120    \n",
        "    model.add(Conv2D(120, kernel_size=(5, 5), strides=(1, 1), activation='tanh', padding='valid'))\n",
        "\n",
        "    model.add(Flatten()) # -> a 1x480 tensor\n",
        "\n",
        "    print('\\tF6: Fully connected, 84 units')\n",
        "    # FC Layer with output 1x84\n",
        "    model.add(Dense(84, activation='tanh'))\n",
        "\n",
        "    print('\\tF7: Fully connected, 10 units')\n",
        "    # FC Layer with 1x10 where we apply a softmax function\n",
        "    model.add(Dense(num_classes, activation='softmax'))\n",
        "\n",
        "    optimizer = 'adam' #alternative 'SGD'\n",
        "    model.compile(loss='sparse_categorical_crossentropy', optimizer=optimizer, metrics=['accuracy'])\n",
        "    \n",
        "    return model\n",
        " \n",
        "# create the model\n",
        "model = LeNet(input_shape,num_classes)\n",
        "model.summary()"
      ]
    },
    {
      "cell_type": "markdown",
      "metadata": {
        "id": "egL15iQztTDH"
      },
      "source": [
        "## Train"
      ]
    },
    {
      "cell_type": "code",
      "execution_count": 6,
      "metadata": {
        "colab": {
          "base_uri": "https://localhost:8080/"
        },
        "id": "EKOdDvgf5YlZ",
        "outputId": "f18c12d0-f3a7-4246-d7cb-1e2173b03ea0"
      },
      "outputs": [
        {
          "output_type": "stream",
          "name": "stdout",
          "text": [
            "Epoch 1/30\n",
            "1563/1563 [==============================] - 16s 5ms/step - loss: 1.7921 - accuracy: 0.3639 - val_loss: 1.6433 - val_accuracy: 0.4173\n",
            "Epoch 2/30\n",
            "1563/1563 [==============================] - 7s 5ms/step - loss: 1.5516 - accuracy: 0.4489 - val_loss: 1.5032 - val_accuracy: 0.4726\n",
            "Epoch 3/30\n",
            "1563/1563 [==============================] - 7s 4ms/step - loss: 1.4508 - accuracy: 0.4867 - val_loss: 1.4701 - val_accuracy: 0.4811\n",
            "Epoch 4/30\n",
            "1563/1563 [==============================] - 7s 5ms/step - loss: 1.3878 - accuracy: 0.5087 - val_loss: 1.4117 - val_accuracy: 0.5043\n",
            "Epoch 5/30\n",
            "1563/1563 [==============================] - 7s 5ms/step - loss: 1.3311 - accuracy: 0.5296 - val_loss: 1.4113 - val_accuracy: 0.5015\n",
            "Epoch 6/30\n",
            "1563/1563 [==============================] - 7s 5ms/step - loss: 1.2810 - accuracy: 0.5475 - val_loss: 1.3646 - val_accuracy: 0.5214\n",
            "Epoch 7/30\n",
            "1563/1563 [==============================] - 7s 5ms/step - loss: 1.2327 - accuracy: 0.5650 - val_loss: 1.3543 - val_accuracy: 0.5202\n",
            "Epoch 8/30\n",
            "1563/1563 [==============================] - 7s 5ms/step - loss: 1.1913 - accuracy: 0.5773 - val_loss: 1.3499 - val_accuracy: 0.5256\n",
            "Epoch 9/30\n",
            "1563/1563 [==============================] - 7s 5ms/step - loss: 1.1509 - accuracy: 0.5939 - val_loss: 1.3342 - val_accuracy: 0.5410\n",
            "Epoch 10/30\n",
            "1563/1563 [==============================] - 7s 5ms/step - loss: 1.1121 - accuracy: 0.6073 - val_loss: 1.3327 - val_accuracy: 0.5377\n",
            "Epoch 11/30\n",
            "1563/1563 [==============================] - 7s 5ms/step - loss: 1.0727 - accuracy: 0.6179 - val_loss: 1.3378 - val_accuracy: 0.5374\n",
            "Epoch 12/30\n",
            "1563/1563 [==============================] - 7s 5ms/step - loss: 1.0371 - accuracy: 0.6302 - val_loss: 1.3465 - val_accuracy: 0.5381\n",
            "Epoch 13/30\n",
            "1563/1563 [==============================] - 6s 4ms/step - loss: 0.9971 - accuracy: 0.6455 - val_loss: 1.3833 - val_accuracy: 0.5332\n",
            "Epoch 14/30\n",
            "1563/1563 [==============================] - 7s 4ms/step - loss: 0.9666 - accuracy: 0.6553 - val_loss: 1.3785 - val_accuracy: 0.5326\n",
            "Epoch 15/30\n",
            "1563/1563 [==============================] - 7s 4ms/step - loss: 0.9331 - accuracy: 0.6659 - val_loss: 1.4263 - val_accuracy: 0.5280\n",
            "Epoch 16/30\n",
            "1563/1563 [==============================] - 7s 5ms/step - loss: 0.9002 - accuracy: 0.6784 - val_loss: 1.4314 - val_accuracy: 0.5299\n",
            "Epoch 17/30\n",
            "1563/1563 [==============================] - 7s 4ms/step - loss: 0.8718 - accuracy: 0.6903 - val_loss: 1.4434 - val_accuracy: 0.5321\n",
            "Epoch 18/30\n",
            "1563/1563 [==============================] - 7s 4ms/step - loss: 0.8417 - accuracy: 0.6997 - val_loss: 1.4402 - val_accuracy: 0.5306\n",
            "Epoch 19/30\n",
            "1563/1563 [==============================] - 6s 4ms/step - loss: 0.8180 - accuracy: 0.7092 - val_loss: 1.4724 - val_accuracy: 0.5358\n",
            "Epoch 20/30\n",
            "1563/1563 [==============================] - 7s 5ms/step - loss: 0.7881 - accuracy: 0.7181 - val_loss: 1.4975 - val_accuracy: 0.5333\n",
            "Epoch 21/30\n",
            "1563/1563 [==============================] - 7s 4ms/step - loss: 0.7635 - accuracy: 0.7292 - val_loss: 1.5192 - val_accuracy: 0.5299\n",
            "Epoch 22/30\n",
            "1563/1563 [==============================] - 7s 5ms/step - loss: 0.7362 - accuracy: 0.7373 - val_loss: 1.5763 - val_accuracy: 0.5240\n",
            "Epoch 23/30\n",
            "1563/1563 [==============================] - 7s 5ms/step - loss: 0.7173 - accuracy: 0.7437 - val_loss: 1.5561 - val_accuracy: 0.5295\n",
            "Epoch 24/30\n",
            "1563/1563 [==============================] - 6s 4ms/step - loss: 0.6909 - accuracy: 0.7530 - val_loss: 1.6200 - val_accuracy: 0.5250\n",
            "Epoch 25/30\n",
            "1563/1563 [==============================] - 7s 4ms/step - loss: 0.6692 - accuracy: 0.7601 - val_loss: 1.6191 - val_accuracy: 0.5229\n",
            "Epoch 26/30\n",
            "1563/1563 [==============================] - 8s 5ms/step - loss: 0.6466 - accuracy: 0.7699 - val_loss: 1.6601 - val_accuracy: 0.5191\n",
            "Epoch 27/30\n",
            "1563/1563 [==============================] - 7s 5ms/step - loss: 0.6257 - accuracy: 0.7747 - val_loss: 1.6955 - val_accuracy: 0.5197\n",
            "Epoch 28/30\n",
            "1563/1563 [==============================] - 7s 4ms/step - loss: 0.6074 - accuracy: 0.7833 - val_loss: 1.7305 - val_accuracy: 0.5241\n",
            "Epoch 29/30\n",
            "1563/1563 [==============================] - 7s 5ms/step - loss: 0.5886 - accuracy: 0.7898 - val_loss: 1.7289 - val_accuracy: 0.5257\n",
            "Epoch 30/30\n",
            "1563/1563 [==============================] - 7s 4ms/step - loss: 0.5730 - accuracy: 0.7948 - val_loss: 1.8222 - val_accuracy: 0.5134\n"
          ]
        }
      ],
      "source": [
        "epochs = 30\n",
        "history = model.fit(Xtrain, Ytrain, batch_size=32, epochs=epochs, validation_data = (Xtest,Ytest))\n",
        "\n"
      ]
    },
    {
      "cell_type": "markdown",
      "metadata": {
        "id": "YPtbelKYHy4K"
      },
      "source": [
        "##Evaluate the model"
      ]
    },
    {
      "cell_type": "markdown",
      "metadata": {
        "id": "fkx4x2M3vFpk"
      },
      "source": [
        "## Print scores\n",
        "\n",
        "Overall accuracy, precision, recall and F-score "
      ]
    },
    {
      "cell_type": "code",
      "execution_count": 7,
      "metadata": {
        "colab": {
          "base_uri": "https://localhost:8080/"
        },
        "id": "aLfiWAMGHxkH",
        "outputId": "fe219578-0e17-4967-e038-ef12ade84e01"
      },
      "outputs": [
        {
          "output_type": "stream",
          "name": "stdout",
          "text": [
            "313/313 [==============================] - 1s 3ms/step - loss: 1.8222 - accuracy: 0.5134\n",
            "Test loss: 1.822241\n",
            "Test accuracy: 0.513400\n",
            "313/313 [==============================] - 1s 2ms/step\n",
            "(10000,)\n",
            "(10000, 1)\n",
            "              precision    recall  f1-score   support\n",
            "\n",
            "           0      0.595     0.508     0.548      1000\n",
            "           1      0.658     0.611     0.634      1000\n",
            "           2      0.397     0.407     0.402      1000\n",
            "           3      0.358     0.329     0.343      1000\n",
            "           4      0.426     0.486     0.454      1000\n",
            "           5      0.420     0.439     0.430      1000\n",
            "           6      0.515     0.669     0.582      1000\n",
            "           7      0.584     0.550     0.567      1000\n",
            "           8      0.631     0.608     0.619      1000\n",
            "           9      0.596     0.527     0.559      1000\n",
            "\n",
            "    accuracy                          0.513     10000\n",
            "   macro avg      0.518     0.513     0.514     10000\n",
            "weighted avg      0.518     0.513     0.514     10000\n",
            "\n"
          ]
        }
      ],
      "source": [
        "# accuracy\n",
        "score = model.evaluate(Xtest, Ytest)\n",
        "print(\"Test loss: %f\" %score[0])\n",
        "print(\"Test accuracy: %f\" %score[1])\n",
        "\n",
        "preds = model.predict(Xtest,verbose=1)\n",
        "Ypred = np.argmax(preds, axis=1)\n",
        "\n",
        "print('%s' %str(Ypred.shape))\n",
        "print('%s' %str(Ytest.shape))\n",
        "\n",
        "print(classification_report(Ytest, Ypred, digits=3))  "
      ]
    },
    {
      "cell_type": "markdown",
      "metadata": {
        "id": "k6bNy-J9u-l6"
      },
      "source": [
        "##Plot results"
      ]
    },
    {
      "cell_type": "code",
      "execution_count": 8,
      "metadata": {
        "colab": {
          "base_uri": "https://localhost:8080/",
          "height": 573
        },
        "id": "nGcvKLXpvjDu",
        "outputId": "769e3335-4472-4e11-a39d-a48c134346b4"
      },
      "outputs": [
        {
          "output_type": "display_data",
          "data": {
            "text/plain": [
              "<Figure size 432x288 with 1 Axes>"
            ],
            "image/png": "[encoded data removed]"
          },
          "metadata": {
            "needs_background": "light"
          }
        },
        {
          "output_type": "display_data",
          "data": {
            "text/plain": [
              "<Figure size 432x288 with 1 Axes>"
            ],
            "image/png": "[encoded data removed]"
          },
          "metadata": {
            "needs_background": "light"
          }
        }
      ],
      "source": [
        "import matplotlib.pyplot as plt\n",
        "\n",
        "# summarize history for accuracy\n",
        "plt.plot(history.history['accuracy'])\n",
        "plt.plot(history.history['val_accuracy'])\n",
        "plt.title('model accuracy')\n",
        "plt.ylabel('accuracy')\n",
        "plt.xlabel('epoch')\n",
        "plt.ylim(np.min(history.history['accuracy']), 1.0)\n",
        "plt.legend(['train', 'test'], loc='upper left')\n",
        "plt.show()\n",
        "# summarize history for loss\n",
        "plt.plot(history.history['loss'])\n",
        "plt.plot(history.history['val_loss'])\n",
        "plt.title('model loss')\n",
        "plt.ylabel('loss')\n",
        "plt.xlabel('epoch')\n",
        "plt.ylim(0.0, np.max(history.history['loss']))\n",
        "plt.legend(['train', 'test'], loc='lower left')\n",
        "plt.show()"
      ]
    },
    {
      "cell_type": "markdown",
      "metadata": {
        "id": "Hd9Bkd6KtWrt"
      },
      "source": [
        "# Home Exercises\n",
        "\n",
        "**Question 1** \n",
        "\n",
        "Compare the model defined above with a model with the same structure but with `ReLU` activation functions in all the layers.\n"
      ]
    },
    {
      "cell_type": "code",
      "source": [
        "def LeNet_ReLU(input_shape, num_classes):\n",
        "    \n",
        "    print('\\nLeNet model with ReLU activation function')\n",
        "    model = Sequential()\n",
        "    \n",
        "    print('\\tC1: Convolutional 6 kernels 5x5')\n",
        "    # With padding='same' we specify that the output of this Conv2D will be a 32 x 32 x 6 tensor\n",
        "    # With padding='valid' we specify that the output of a Conv2D will depend on the size of the kernel\n",
        "    model.add(Conv2D(6, kernel_size=(5, 5), strides=(1, 1), activation='relu', input_shape=input_shape, padding='same'))\n",
        "\n",
        "    print('\\tS2: Average Pooling 2x2 stride 2x2')\n",
        "    # This AvgPooling, returns a tensor with size 16 x 16 x 6\n",
        "    # Note the \"valid\" padding value as well.\n",
        "    model.add(AveragePooling2D(pool_size=(2, 2), strides=(2, 2), padding='valid'))\n",
        "\n",
        "    print('\\tC3: Convolutional 16 kernels 5x5')\n",
        "    # Simple Conv2D layer with which returns a tensor with size 12 x 12 x 16\n",
        "    model.add(Conv2D(16, kernel_size=(5, 5), strides=(1, 1), activation='relu', padding='valid'))\n",
        "\n",
        "    print('\\tS4: Average Pooling 2x2 stride 2x2')\n",
        "    # This AvgPooling, returns a tensor with size 6 x 6 x 16\n",
        "    model.add(AveragePooling2D(pool_size=(2, 2), strides=(2, 2), padding='valid'))\n",
        "\n",
        "    print('\\tC5: Convolutional 120 kernels 5x5')\n",
        "    # Simple Conv2D layer with which returns a tensor with size 2 x 2 x 120    \n",
        "    model.add(Conv2D(120, kernel_size=(5, 5), strides=(1, 1), activation='relu', padding='valid'))\n",
        "\n",
        "    model.add(Flatten()) # -> a 1x480 tensor\n",
        "\n",
        "    print('\\tF6: Fully connected, 84 units')\n",
        "    # FC Layer with output 1x84\n",
        "    model.add(Dense(84, activation='relu'))\n",
        "\n",
        "    print('\\tF7: Fully connected, 10 units')\n",
        "    # FC Layer with 1x10 where we apply a softmax function\n",
        "    model.add(Dense(num_classes, activation='softmax'))\n",
        "\n",
        "    optimizer = 'adam' #alternative 'SGD'\n",
        "    model.compile(loss='sparse_categorical_crossentropy', optimizer=optimizer, metrics=['accuracy'])\n",
        "    \n",
        "    return model\n",
        " \n",
        "# create the model\n",
        "model = LeNet_ReLU(input_shape,num_classes)\n",
        "model.summary()"
      ],
      "metadata": {
        "colab": {
          "base_uri": "https://localhost:8080/"
        },
        "id": "f-BA_k-vDFzO",
        "outputId": "952d6642-90e9-44cb-ca25-b7cb834dd918"
      },
      "execution_count": 10,
      "outputs": [
        {
          "output_type": "stream",
          "name": "stdout",
          "text": [
            "\n",
            "LeNet model with ReLU activation function\n",
            "\tC1: Convolutional 6 kernels 5x5\n",
            "\tS2: Average Pooling 2x2 stride 2x2\n",
            "\tC3: Convolutional 16 kernels 5x5\n",
            "\tS4: Average Pooling 2x2 stride 2x2\n",
            "\tC5: Convolutional 120 kernels 5x5\n",
            "\tF6: Fully connected, 84 units\n",
            "\tF7: Fully connected, 10 units\n",
            "Model: \"sequential_2\"\n",
            "_________________________________________________________________\n",
            " Layer (type)                Output Shape              Param #   \n",
            "=================================================================\n",
            " conv2d_6 (Conv2D)           (None, 32, 32, 6)         456       \n",
            "                                                                 \n",
            " average_pooling2d_4 (Averag  (None, 16, 16, 6)        0         \n",
            " ePooling2D)                                                     \n",
            "                                                                 \n",
            " conv2d_7 (Conv2D)           (None, 12, 12, 16)        2416      \n",
            "                                                                 \n",
            " average_pooling2d_5 (Averag  (None, 6, 6, 16)         0         \n",
            " ePooling2D)                                                     \n",
            "                                                                 \n",
            " conv2d_8 (Conv2D)           (None, 2, 2, 120)         48120     \n",
            "                                                                 \n",
            " flatten_2 (Flatten)         (None, 480)               0         \n",
            "                                                                 \n",
            " dense_4 (Dense)             (None, 84)                40404     \n",
            "                                                                 \n",
            " dense_5 (Dense)             (None, 10)                850       \n",
            "                                                                 \n",
            "=================================================================\n",
            "Total params: 92,246\n",
            "Trainable params: 92,246\n",
            "Non-trainable params: 0\n",
            "_________________________________________________________________\n"
          ]
        }
      ]
    },
    {
      "cell_type": "code",
      "source": [
        "epochs = 30\n",
        "history = model.fit(Xtrain, Ytrain, batch_size=32, epochs=epochs, validation_data = (Xtest,Ytest))\n",
        "\n"
      ],
      "metadata": {
        "colab": {
          "base_uri": "https://localhost:8080/"
        },
        "id": "-itvRd_zDYBq",
        "outputId": "b716b61a-65ee-4000-a881-fe5f650bd431"
      },
      "execution_count": 11,
      "outputs": [
        {
          "output_type": "stream",
          "name": "stdout",
          "text": [
            "Epoch 1/30\n",
            "1563/1563 [==============================] - 8s 5ms/step - loss: 1.6570 - accuracy: 0.3956 - val_loss: 1.4281 - val_accuracy: 0.4811\n",
            "Epoch 2/30\n",
            "1563/1563 [==============================] - 7s 5ms/step - loss: 1.3256 - accuracy: 0.5273 - val_loss: 1.2483 - val_accuracy: 0.5546\n",
            "Epoch 3/30\n",
            "1563/1563 [==============================] - 6s 4ms/step - loss: 1.1977 - accuracy: 0.5755 - val_loss: 1.1812 - val_accuracy: 0.5809\n",
            "Epoch 4/30\n",
            "1563/1563 [==============================] - 7s 4ms/step - loss: 1.1024 - accuracy: 0.6091 - val_loss: 1.1308 - val_accuracy: 0.5978\n",
            "Epoch 5/30\n",
            "1563/1563 [==============================] - 7s 4ms/step - loss: 1.0336 - accuracy: 0.6334 - val_loss: 1.1004 - val_accuracy: 0.6110\n",
            "Epoch 6/30\n",
            "1563/1563 [==============================] - 7s 5ms/step - loss: 0.9827 - accuracy: 0.6530 - val_loss: 1.1010 - val_accuracy: 0.6132\n",
            "Epoch 7/30\n",
            "1563/1563 [==============================] - 7s 5ms/step - loss: 0.9391 - accuracy: 0.6671 - val_loss: 1.0443 - val_accuracy: 0.6401\n",
            "Epoch 8/30\n",
            "1563/1563 [==============================] - 8s 5ms/step - loss: 0.8945 - accuracy: 0.6823 - val_loss: 1.0740 - val_accuracy: 0.6286\n",
            "Epoch 9/30\n",
            "1563/1563 [==============================] - 7s 4ms/step - loss: 0.8595 - accuracy: 0.6948 - val_loss: 1.0676 - val_accuracy: 0.6343\n",
            "Epoch 10/30\n",
            "1563/1563 [==============================] - 6s 4ms/step - loss: 0.8212 - accuracy: 0.7095 - val_loss: 1.0356 - val_accuracy: 0.6441\n",
            "Epoch 11/30\n",
            "1563/1563 [==============================] - 6s 4ms/step - loss: 0.7905 - accuracy: 0.7174 - val_loss: 1.0462 - val_accuracy: 0.6434\n",
            "Epoch 12/30\n",
            "1563/1563 [==============================] - 7s 4ms/step - loss: 0.7564 - accuracy: 0.7304 - val_loss: 1.0711 - val_accuracy: 0.6423\n",
            "Epoch 13/30\n",
            "1563/1563 [==============================] - 7s 4ms/step - loss: 0.7280 - accuracy: 0.7411 - val_loss: 1.0874 - val_accuracy: 0.6432\n",
            "Epoch 14/30\n",
            "1563/1563 [==============================] - 8s 5ms/step - loss: 0.7015 - accuracy: 0.7513 - val_loss: 1.1627 - val_accuracy: 0.6301\n",
            "Epoch 15/30\n",
            "1563/1563 [==============================] - 6s 4ms/step - loss: 0.6718 - accuracy: 0.7591 - val_loss: 1.1091 - val_accuracy: 0.6460\n",
            "Epoch 16/30\n",
            "1563/1563 [==============================] - 6s 4ms/step - loss: 0.6450 - accuracy: 0.7678 - val_loss: 1.1690 - val_accuracy: 0.6360\n",
            "Epoch 17/30\n",
            "1563/1563 [==============================] - 7s 4ms/step - loss: 0.6200 - accuracy: 0.7781 - val_loss: 1.1689 - val_accuracy: 0.6493\n",
            "Epoch 18/30\n",
            "1563/1563 [==============================] - 6s 4ms/step - loss: 0.5954 - accuracy: 0.7845 - val_loss: 1.1877 - val_accuracy: 0.6420\n",
            "Epoch 19/30\n",
            "1563/1563 [==============================] - 7s 4ms/step - loss: 0.5695 - accuracy: 0.7945 - val_loss: 1.2727 - val_accuracy: 0.6353\n",
            "Epoch 20/30\n",
            "1563/1563 [==============================] - 6s 4ms/step - loss: 0.5496 - accuracy: 0.8012 - val_loss: 1.2788 - val_accuracy: 0.6371\n",
            "Epoch 21/30\n",
            "1563/1563 [==============================] - 7s 4ms/step - loss: 0.5262 - accuracy: 0.8105 - val_loss: 1.3301 - val_accuracy: 0.6288\n",
            "Epoch 22/30\n",
            "1563/1563 [==============================] - 7s 4ms/step - loss: 0.5062 - accuracy: 0.8177 - val_loss: 1.3937 - val_accuracy: 0.6113\n",
            "Epoch 23/30\n",
            "1563/1563 [==============================] - 7s 4ms/step - loss: 0.4881 - accuracy: 0.8234 - val_loss: 1.4582 - val_accuracy: 0.6303\n",
            "Epoch 24/30\n",
            "1563/1563 [==============================] - 6s 4ms/step - loss: 0.4668 - accuracy: 0.8308 - val_loss: 1.4438 - val_accuracy: 0.6242\n",
            "Epoch 25/30\n",
            "1563/1563 [==============================] - 7s 4ms/step - loss: 0.4453 - accuracy: 0.8366 - val_loss: 1.4596 - val_accuracy: 0.6319\n",
            "Epoch 26/30\n",
            "1563/1563 [==============================] - 7s 4ms/step - loss: 0.4277 - accuracy: 0.8454 - val_loss: 1.5267 - val_accuracy: 0.6186\n",
            "Epoch 27/30\n",
            "1563/1563 [==============================] - 7s 5ms/step - loss: 0.4102 - accuracy: 0.8520 - val_loss: 1.5909 - val_accuracy: 0.6163\n",
            "Epoch 28/30\n",
            "1563/1563 [==============================] - 6s 4ms/step - loss: 0.4010 - accuracy: 0.8547 - val_loss: 1.6030 - val_accuracy: 0.6254\n",
            "Epoch 29/30\n",
            "1563/1563 [==============================] - 7s 4ms/step - loss: 0.3792 - accuracy: 0.8621 - val_loss: 1.6628 - val_accuracy: 0.6222\n",
            "Epoch 30/30\n",
            "1563/1563 [==============================] - 6s 4ms/step - loss: 0.3685 - accuracy: 0.8650 - val_loss: 1.7308 - val_accuracy: 0.6208\n"
          ]
        }
      ]
    },
    {
      "cell_type": "code",
      "source": [
        "# accuracy\n",
        "score = model.evaluate(Xtest, Ytest)\n",
        "print(\"Test loss: %f\" %score[0])\n",
        "print(\"Test accuracy: %f\" %score[1])\n",
        "\n",
        "preds = model.predict(Xtest,verbose=1)\n",
        "Ypred = np.argmax(preds, axis=1)\n",
        "\n",
        "print('%s' %str(Ypred.shape))\n",
        "print('%s' %str(Ytest.shape))\n",
        "\n",
        "print(classification_report(Ytest, Ypred, digits=3))  "
      ],
      "metadata": {
        "colab": {
          "base_uri": "https://localhost:8080/"
        },
        "id": "8psVVX_DDj1I",
        "outputId": "b638bc12-4bf6-43d7-caf9-5cfe5d4c80d7"
      },
      "execution_count": 12,
      "outputs": [
        {
          "output_type": "stream",
          "name": "stdout",
          "text": [
            "313/313 [==============================] - 1s 3ms/step - loss: 1.7308 - accuracy: 0.6208\n",
            "Test loss: 1.730778\n",
            "Test accuracy: 0.620800\n",
            "313/313 [==============================] - 1s 2ms/step\n",
            "(10000,)\n",
            "(10000, 1)\n",
            "              precision    recall  f1-score   support\n",
            "\n",
            "           0      0.632     0.671     0.651      1000\n",
            "           1      0.758     0.754     0.756      1000\n",
            "           2      0.514     0.530     0.522      1000\n",
            "           3      0.413     0.406     0.409      1000\n",
            "           4      0.565     0.564     0.565      1000\n",
            "           5      0.500     0.494     0.497      1000\n",
            "           6      0.683     0.672     0.677      1000\n",
            "           7      0.676     0.688     0.682      1000\n",
            "           8      0.768     0.699     0.732      1000\n",
            "           9      0.707     0.730     0.719      1000\n",
            "\n",
            "    accuracy                          0.621     10000\n",
            "   macro avg      0.622     0.621     0.621     10000\n",
            "weighted avg      0.622     0.621     0.621     10000\n",
            "\n"
          ]
        }
      ]
    },
    {
      "cell_type": "code",
      "source": [
        "import matplotlib.pyplot as plt\n",
        "\n",
        "# summarize history for accuracy\n",
        "plt.plot(history.history['accuracy'])\n",
        "plt.plot(history.history['val_accuracy'])\n",
        "plt.title('model accuracy')\n",
        "plt.ylabel('accuracy')\n",
        "plt.xlabel('epoch')\n",
        "plt.ylim(np.min(history.history['accuracy']), 1.0)\n",
        "plt.legend(['train', 'test'], loc='upper left')\n",
        "plt.show()\n",
        "# summarize history for loss\n",
        "plt.plot(history.history['loss'])\n",
        "plt.plot(history.history['val_loss'])\n",
        "plt.title('model loss')\n",
        "plt.ylabel('loss')\n",
        "plt.xlabel('epoch')\n",
        "plt.ylim(0.0, np.max(history.history['loss']))\n",
        "plt.legend(['train', 'test'], loc='lower left')\n",
        "plt.show()"
      ],
      "metadata": {
        "id": "D2bsRD7GEcYY",
        "outputId": "074a1160-31e3-48ec-bca8-85750e135b35",
        "colab": {
          "base_uri": "https://localhost:8080/",
          "height": 573
        }
      },
      "execution_count": 13,
      "outputs": [
        {
          "output_type": "display_data",
          "data": {
            "text/plain": [
              "<Figure size 432x288 with 1 Axes>"
            ],
            "image/png": "[encoded data removed]"
          },
          "metadata": {
            "needs_background": "light"
          }
        },
        {
          "output_type": "display_data",
          "data": {
            "text/plain": [
              "<Figure size 432x288 with 1 Axes>"
            ],
            "image/png": "[encoded data removed]"
          },
          "metadata": {
            "needs_background": "light"
          }
        }
      ]
    }
  ],
  "metadata": {
    "accelerator": "GPU",
    "colab": {
      "provenance": []
    },
    "kernelspec": {
      "display_name": "Python 3.9.13 ('base')",
      "language": "python",
      "name": "python3"
    },
    "language_info": {
      "codemirror_mode": {
        "name": "ipython",
        "version": 3
      },
      "file_extension": ".py",
      "mimetype": "text/x-python",
      "name": "python",
      "nbconvert_exporter": "python",
      "pygments_lexer": "ipython3",
      "version": "3.9.13"
    },
    "vscode": {
      "interpreter": {
        "hash": "0245dcb33ee754f1ac52eeb37726094d614f792ee661c1411187169ef218bd3b"
      }
    },
    "gpuClass": "standard"
  },
  "nbformat": 4,
  "nbformat_minor": 0
}