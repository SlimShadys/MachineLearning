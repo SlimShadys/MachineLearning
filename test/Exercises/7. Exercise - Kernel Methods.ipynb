{
  "cells": [
    {
      "cell_type": "markdown",
      "metadata": {
        "id": "Z3GYzNWONtju"
      },
      "source": [
        "# Machine Learning - Exercise 7\n",
        "# Kernel Methods"
      ]
    },
    {
      "cell_type": "markdown",
      "metadata": {
        "id": "eDEJU1RwoIlv"
      },
      "source": [
        "## Import \n",
        "\n",
        "Import libraries that contains the implementations of the functions used in the rest of the program.\n",
        "\n"
      ]
    },
    {
      "cell_type": "code",
      "execution_count": 1,
      "metadata": {
        "colab": {
          "base_uri": "https://localhost:8080/"
        },
        "id": "BSKuPnIXNoq2",
        "outputId": "b87760b1-5741-41e9-8fac-de059cf39a3c"
      },
      "outputs": [
        {
          "name": "stdout",
          "output_type": "stream",
          "text": [
            "Libraries imported.\n"
          ]
        }
      ],
      "source": [
        "import random\n",
        "import numpy as np\n",
        "from sklearn import svm\n",
        "import matplotlib.pyplot as plt\n",
        "from sklearn import datasets\n",
        "from sklearn.metrics import mean_squared_error, r2_score, accuracy_score\n",
        "from sklearn.model_selection import train_test_split\n",
        "from sklearn.model_selection import GridSearchCV, cross_val_score\n",
        "\n",
        "print(\"Libraries imported.\")"
      ]
    },
    {
      "cell_type": "markdown",
      "metadata": {},
      "source": [
        "# Classification"
      ]
    },
    {
      "cell_type": "markdown",
      "metadata": {
        "id": "KaeLRpWIfO1m"
      },
      "source": [
        "## Classification data set\n"
      ]
    },
    {
      "cell_type": "markdown",
      "metadata": {
        "id": "SUFE4MtalvtD"
      },
      "source": [
        "Data-generation function"
      ]
    },
    {
      "cell_type": "code",
      "execution_count": 3,
      "metadata": {
        "id": "gGeQO-FylexA"
      },
      "outputs": [],
      "source": [
        "# Param: n=size of data set, outliers=True/False\n",
        "def generateData(n, outliers=False):\n",
        "    X = np.ndarray((n,2))\n",
        "    t = np.ndarray((n,1))\n",
        "    n1 = int(n*0.5)\n",
        "\n",
        "    # define random centers of distributions far away\n",
        "    \n",
        "    for i in range(0,n1):\n",
        "        X[i,:] = np.random.normal((2.0,8.5),0.5,size=(1,2))\n",
        "        t[i] = -1\n",
        "    for i in range(n1,n):\n",
        "        X[i,:] = np.random.normal((4.0,5.0),0.3,size=(1,2))\n",
        "        t[i] = 1\n",
        "    \n",
        "    if (outliers):\n",
        "        no=int(n*0.9)\n",
        "        for i in range (no,n):\n",
        "            X[i,:] = np.random.normal((9.0,3.0),0.2,size=(1,2))\n",
        "            t[i] = 1\n",
        "\n",
        "    return [X,t]"
      ]
    },
    {
      "cell_type": "markdown",
      "metadata": {
        "id": "cYuyvK3Cl_z7"
      },
      "source": [
        "Generate n data points with/without outliers"
      ]
    },
    {
      "cell_type": "code",
      "execution_count": 5,
      "metadata": {
        "colab": {
          "base_uri": "https://localhost:8080/"
        },
        "id": "0nHa8mpWbAEp",
        "outputId": "1d5fadb7-f091-4ce3-dc6d-4bed41f382fa"
      },
      "outputs": [
        {
          "name": "stdout",
          "output_type": "stream",
          "text": [
            "Input shape: (100, 2)\n",
            "Output shape: (100, 1)\n",
            "Number of attributes/features: 2\n",
            "Number of classes: 2\n",
            "Number of samples: 100\n",
            "\n",
            "Example:\n",
            "x[92] = array([8.99873855, 2.95866754])\n",
            "y[92] = array([1.])\n"
          ]
        }
      ],
      "source": [
        "n = 100\n",
        "outliers = True\n",
        "np.random.seed(123)\n",
        "\n",
        "X, t = generateData(n, outliers=outliers)\n",
        "\n",
        "# print specs\n",
        "print(\"Input shape: %s\" %str(X.shape))\n",
        "print(\"Output shape: %s\" %str(t.shape))\n",
        "print(\"Number of attributes/features: %d\" %(X.shape[1]))\n",
        "print(\"Number of classes: %d\" %(len(np.unique(t))))\n",
        "print(\"Number of samples: %d\" %(X.shape[0]))\n",
        "\n",
        "# show an example\n",
        "id = random.randrange(0,X.shape[0])\n",
        "\n",
        "print(\"\\nExample:\")\n",
        "print(\"x[%d] = %r\" %(id,X[id]))\n",
        "print(\"y[%d] = %r\" %(id,t[id]))"
      ]
    },
    {
      "cell_type": "markdown",
      "metadata": {
        "id": "grWZC8TEislj"
      },
      "source": [
        "## Classification model\n",
        "\n",
        "Choose among different kernel functions for the SVM classifier [info](https://scikit-learn.org/stable/modules/generated/sklearn.svm.SVC.html#sklearn.svm.SVC):\n",
        "* Linear\n",
        "* Polynomial\n",
        "* Radial Basis Function (RBF)\n",
        "* Sigmoid"
      ]
    },
    {
      "cell_type": "code",
      "execution_count": 6,
      "metadata": {
        "id": "bzslk0gGPkk8"
      },
      "outputs": [],
      "source": [
        "kernel_name  = 'poly' # 'linear', 'poly', 'rbf', 'sigmoid'\n",
        "\n",
        "# C = Regularization\n",
        "# kernel = Which kernel we want to choose between the listed above\n",
        "# degree = Degree of the polynomial fn. Only used with 'poly' kernel.\n",
        "classifier = svm.SVC(C=1.0, kernel=kernel_name, degree=3, gamma='scale')"
      ]
    },
    {
      "cell_type": "markdown",
      "metadata": {
        "id": "EZi1jY7Dsy8l"
      },
      "source": [
        "Fit classifier"
      ]
    },
    {
      "cell_type": "code",
      "execution_count": 10,
      "metadata": {
        "colab": {
          "base_uri": "https://localhost:8080/"
        },
        "id": "FlTeIzYPs1Bs",
        "outputId": "35c69769-6e01-4982-839f-3c9f7aa5ec28"
      },
      "outputs": [
        {
          "data": {
            "text/plain": [
              "SVC(kernel='poly')"
            ]
          },
          "execution_count": 10,
          "metadata": {},
          "output_type": "execute_result"
        }
      ],
      "source": [
        "# Train the classifier\n",
        "# We use ravel, otherwise compiler would complain about not receiving a 1D array as Y.\n",
        "classifier.fit(X,t.ravel())"
      ]
    },
    {
      "cell_type": "markdown",
      "metadata": {
        "id": "6GCkU3-HbAAD"
      },
      "source": [
        "## Visualize results\n",
        "\n",
        "Define visualization functions"
      ]
    },
    {
      "cell_type": "code",
      "execution_count": 6,
      "metadata": {
        "id": "5X1SKLD7a9AE"
      },
      "outputs": [],
      "source": [
        "# Plot data\n",
        "def plotData(X,t,XNr=None,XNg=None,label='Data'):\n",
        "    Xr = np.ndarray((0,2))\n",
        "    Xg = np.ndarray((0,2))\n",
        "    for i in range(0,len(X)):\n",
        "        if (t[i][0]==1):\n",
        "            Xr = np.vstack([Xr, [X[i,0],X[i,1]]])\n",
        "        else:\n",
        "            Xg = np.vstack([Xg, [X[i,0],X[i,1]]])\n",
        "            \n",
        "    if (not XNr is None):\n",
        "        plt.plot(XNr[:,0],XNr[:,1],'.', color='#FFAAAA')\n",
        "    if (not XNg is None):\n",
        "        plt.plot(XNg[:,0],XNg[:,1],'.', color='#AAFFAA')\n",
        "\n",
        "    plt.plot(Xr[:,0],Xr[:,1],'ro')\n",
        "    plt.plot(Xg[:,0],Xg[:,1],'go')\n",
        "    plt.axis([0,10,0,10])\n",
        "    plt.title(label)\n",
        "    plt.xlabel('x1')\n",
        "    plt.ylabel('x2')\n",
        "    plt.show()\n",
        "    \n",
        "# Plot results of a solution\n",
        "def plotResult(X, t, clf, label):\n",
        "    XNr = np.ndarray((0,2))\n",
        "    XNg = np.ndarray((0,2))\n",
        "\n",
        "    for u in np.arange(0,10,0.1):\n",
        "        for v in np.arange(0,10,0.1):\n",
        "            xn = np.array([[u, v]])\n",
        "            yn = clf.predict(xn)\n",
        "            if (yn<0):\n",
        "                XNg = np.vstack([XNg, [u,v]])\n",
        "            else:\n",
        "                XNr = np.vstack([XNr, [u,v]])\n",
        "        \n",
        "    plotData(X,t,XNr,XNg,label)"
      ]
    },
    {
      "cell_type": "code",
      "execution_count": 12,
      "metadata": {
        "colab": {
          "base_uri": "https://localhost:8080/",
          "height": 295
        },
        "id": "7iTh0O80bSNJ",
        "outputId": "1654f47b-529e-4f86-8107-f4d059781ca4"
      },
      "outputs": [
        {
          "data": {
            "image/png": "[encoded data removed]",
            "text/plain": [
              "<Figure size 640x480 with 1 Axes>"
            ]
          },
          "metadata": {},
          "output_type": "display_data"
        }
      ],
      "source": [
        "# show results\n",
        "plotResult(X,t,classifier,kernel_name)"
      ]
    },
    {
      "cell_type": "markdown",
      "metadata": {
        "id": "BDlI-feNH9YM"
      },
      "source": [
        "# Regression"
      ]
    },
    {
      "cell_type": "code",
      "execution_count": 14,
      "metadata": {
        "colab": {
          "base_uri": "https://localhost:8080/"
        },
        "id": "SZEdCoxBIJnQ",
        "outputId": "dc34a6f3-149e-4c3c-cbd2-9cd9e17d4f41"
      },
      "outputs": [
        {
          "name": "stdout",
          "output_type": "stream",
          "text": [
            "Dataset: diabetes\n",
            "Number of features: 10\n",
            "Number of samples: 442\n",
            "Training set size: 422\n",
            "Test set size: 20\n"
          ]
        }
      ],
      "source": [
        "# Load the diabetes dataset\n",
        "diabetes = datasets.load_diabetes()\n",
        "\n",
        "print('Dataset: diabetes')\n",
        "print('Number of features: %d' %diabetes.data.shape[1])\n",
        "print('Number of samples: %d' %diabetes.data.shape[0])\n",
        "\n",
        "# Use only one feature\n",
        "diabetes_X = diabetes.data[:, np.newaxis, 2]\n",
        "\n",
        "# Split the data into training/testing sets\n",
        "diabetes_X_train = diabetes_X[:-20]\n",
        "diabetes_X_test = diabetes_X[-20:]\n",
        "\n",
        "# Split the targets into training/testing sets\n",
        "diabetes_y_train = diabetes.target[:-20]\n",
        "diabetes_y_test = diabetes.target[-20:]\n",
        "\n",
        "print('Training set size: %d' %len(diabetes_X_train))\n",
        "print('Test set size: %d' %len(diabetes_X_test))"
      ]
    },
    {
      "cell_type": "markdown",
      "metadata": {
        "id": "nRYitm60Inr9"
      },
      "source": [
        "## Regression model\n",
        "\n",
        "Choose among different kernel functions for the SVM regressor [info](https://scikit-learn.org/stable/modules/generated/sklearn.svm.SVR.html#sklearn.svm.SVR):\n",
        "* Linear\n",
        "* Polynomial\n",
        "* Radial Basis Function (RBF)\n",
        "* Sigmoid"
      ]
    },
    {
      "cell_type": "code",
      "execution_count": 15,
      "metadata": {
        "id": "GwVKXPRgIqEL"
      },
      "outputs": [],
      "source": [
        "kernel_name  = 'poly' # 'linear', 'poly', 'rbf', 'sigmoid'\n",
        "\n",
        "# C = Regularization\n",
        "# kernel = Which kernel we want to choose between the listed above\n",
        "# degree = Degree of the polynomial fn. Only used with 'poly' kernel.\n",
        "regressor = svm.SVR(C=1.0, kernel=kernel_name, degree=3, gamma='scale')"
      ]
    },
    {
      "cell_type": "markdown",
      "metadata": {
        "id": "LBgpD7eRJ5Of"
      },
      "source": [
        "Fit regressor"
      ]
    },
    {
      "cell_type": "code",
      "execution_count": 16,
      "metadata": {
        "colab": {
          "base_uri": "https://localhost:8080/"
        },
        "id": "upEke_VwJ6sU",
        "outputId": "b8a65450-5903-4f1e-b51e-53d458eb4ef7"
      },
      "outputs": [
        {
          "data": {
            "text/plain": [
              "SVR(kernel='poly')"
            ]
          },
          "execution_count": 16,
          "metadata": {},
          "output_type": "execute_result"
        }
      ],
      "source": [
        "regressor.fit(diabetes_X_train, diabetes_y_train)"
      ]
    },
    {
      "cell_type": "markdown",
      "metadata": {
        "id": "YfuH8wlPJQOZ"
      },
      "source": [
        "## Regression prediction"
      ]
    },
    {
      "cell_type": "code",
      "execution_count": 17,
      "metadata": {
        "colab": {
          "base_uri": "https://localhost:8080/"
        },
        "id": "6S1YieiGJT-v",
        "outputId": "a9b7b925-bfeb-437b-b3ec-af479b18b876"
      },
      "outputs": [
        {
          "name": "stdout",
          "output_type": "stream",
          "text": [
            "Mean squared error: 3174.68\n",
            "Variance score: 0.34\n"
          ]
        }
      ],
      "source": [
        "# Make predictions using the testing set\n",
        "diabetes_y_pred = regressor.predict(diabetes_X_test)\n",
        "\n",
        "# The mean squared error\n",
        "print(\"Mean squared error: %.2f\"\n",
        "      % mean_squared_error(diabetes_y_test, diabetes_y_pred))\n",
        "\n",
        "# Explained variance score: 1 is perfect prediction\n",
        "print('Variance score: %.2f' % r2_score(diabetes_y_test, diabetes_y_pred))"
      ]
    },
    {
      "cell_type": "markdown",
      "metadata": {
        "id": "FrHSybkdJbjI"
      },
      "source": [
        "## Visualize results"
      ]
    },
    {
      "cell_type": "code",
      "execution_count": 18,
      "metadata": {
        "colab": {
          "base_uri": "https://localhost:8080/",
          "height": 252
        },
        "id": "6lOJUHStJoEn",
        "outputId": "4617d9a1-4c9b-4a4d-cf5e-1fd67b9a2a04"
      },
      "outputs": [
        {
          "data": {
            "image/png": "[encoded data removed]",
            "text/plain": [
              "<Figure size 640x480 with 1 Axes>"
            ]
          },
          "metadata": {},
          "output_type": "display_data"
        }
      ],
      "source": [
        "# Plot outputs\n",
        "plt.scatter(diabetes_X_test, diabetes_y_test,  color='black')\n",
        "plt.scatter(diabetes_X_test, diabetes_y_pred, color='red', linewidth=3)\n",
        "\n",
        "plt.xticks(())\n",
        "plt.yticks(())\n",
        "plt.show()"
      ]
    },
    {
      "cell_type": "markdown",
      "metadata": {
        "id": "laL6SFFfvOYY"
      },
      "source": [
        "# Hyper-parameter search\n",
        "\n",
        "Hyper-parameter tuning can be realized by using search or optimization methods.\n",
        "\n",
        "[GridSearch](https://scikit-learn.org/stable/modules/generated/sklearn.model_selection.GridSearchCV.html) is  a simple search routine to determine the best valòues of hyper-parameters among a set of possible predefined values. It uses cross-validation to measure performance of each set of hyper-parameters.\n",
        "\n",
        "In the following section are showed 2 examples of GridSearch: one for classification and the other for regression.\n",
        "Then in the cell below are showe the best parameters of each model."
      ]
    },
    {
      "cell_type": "code",
      "execution_count": 19,
      "metadata": {
        "colab": {
          "base_uri": "https://localhost:8080/"
        },
        "id": "WUe_Du3XvSqH",
        "outputId": "98522fe0-ea8c-481a-ddb2-b3d109f1afce"
      },
      "outputs": [
        {
          "name": "stdout",
          "output_type": "stream",
          "text": [
            "Grid Search for Classification\n",
            "\n",
            "\n",
            "Fitting 5 folds for each of 76 candidates, totalling 380 fits\n"
          ]
        },
        {
          "name": "stderr",
          "output_type": "stream",
          "text": [
            "c:\\Users\\Gianmarco\\anaconda3\\lib\\site-packages\\sklearn\\utils\\validation.py:993: DataConversionWarning: A column-vector y was passed when a 1d array was expected. Please change the shape of y to (n_samples, ), for example using ravel().\n",
            "  y = column_or_1d(y, warn=True)\n"
          ]
        },
        {
          "name": "stdout",
          "output_type": "stream",
          "text": [
            "GridSearchCV(cv=5, estimator=SVC(kernel='poly'), n_jobs=-1,\n",
            "             param_grid={'C': array([0.1, 0.2, 0.3, 0.4, 0.5, 0.6, 0.7, 0.8, 0.9, 1. , 1.1, 1.2, 1.3,\n",
            "       1.4, 1.5, 1.6, 1.7, 1.8, 1.9]),\n",
            "                         'kernel': ('linear', 'rbf', 'poly', 'sigmoid')},\n",
            "             scoring='accuracy', verbose=1)\n",
            "\n",
            "\n",
            "Grid Search for Classification\n",
            "\n",
            "\n",
            "Fitting 5 folds for each of 76 candidates, totalling 380 fits\n",
            "GridSearchCV(cv=5, estimator=SVR(kernel='poly'), n_jobs=-1,\n",
            "             param_grid={'C': array([0.1, 0.2, 0.3, 0.4, 0.5, 0.6, 0.7, 0.8, 0.9, 1. , 1.1, 1.2, 1.3,\n",
            "       1.4, 1.5, 1.6, 1.7, 1.8, 1.9]),\n",
            "                         'kernel': ('linear', 'rbf', 'poly', 'sigmoid')},\n",
            "             scoring='r2', verbose=1)\n"
          ]
        }
      ],
      "source": [
        "# Example of using GridSearch\n",
        "\n",
        "#The first parameter is the model\n",
        "grid_search_classification = GridSearchCV(classifier,\n",
        "                          # Here you can choose the parameters that you want to fit in the gridsearch.\n",
        "                          # In this case the gridsearch will find the best combination between 'C' and 'kernel'\n",
        "                           {\n",
        "                              'C':np.arange(0.1,2,0.1),                            \n",
        "                            'kernel': ('linear', 'rbf','poly','sigmoid'),\n",
        "                            #If the kernel is poly (above line commented), you can also choose the best degree\n",
        "                            #Otherwise keep commented\n",
        "                            #'degree': np.arange(1,4,1),\n",
        "                            },cv=5, scoring=\"accuracy\",verbose=1,n_jobs=-1\n",
        "                           )\n",
        "print(\"Grid Search for Classification\\n\\n\")\n",
        "print(grid_search_classification.fit(X,t))\n",
        "\n",
        "grid_search_regression = GridSearchCV(regressor,\n",
        "                           {\n",
        "                              'C':np.arange(0.1,2,0.1),                            \n",
        "                            'kernel': ('linear', 'rbf','poly','sigmoid'),\n",
        "                            #If the kernel is poly (above line commented), you can also choose the best degree\n",
        "                            #Otherwise keep commented\n",
        "                            #'degree': np.arange(1,4,1),\n",
        "                            },cv=5, scoring=\"r2\",verbose=1,n_jobs=-1\n",
        "                           )\n",
        "print(\"\\n\\nGrid Search for Regression\\n\\n\")\n",
        "print(grid_search_regression.fit(diabetes_X_train,diabetes_y_train))"
      ]
    },
    {
      "cell_type": "code",
      "execution_count": 20,
      "metadata": {
        "colab": {
          "base_uri": "https://localhost:8080/"
        },
        "id": "9Xeh21jlGt_g",
        "outputId": "1dcc87ef-cddc-48fe-f26f-08c7de42df11"
      },
      "outputs": [
        {
          "name": "stdout",
          "output_type": "stream",
          "text": [
            "Best classification hyper-parameters: {'C': 0.1, 'kernel': 'linear'}\n",
            "Best accuracy: 1.0\n",
            "Best regression hyper-parameters: {'C': 1.9000000000000001, 'kernel': 'sigmoid'}\n",
            "Best R2 score: 0.28\n"
          ]
        }
      ],
      "source": [
        "#Best parameters for the classifier\n",
        "print(\"Best classification hyper-parameters: %r\" %grid_search_classification.best_params_)\n",
        "print(\"Best accuracy: %.1f\" %grid_search_classification.best_score_)\n",
        "\n",
        "#Best parameters for the regressor\n",
        "print(\"Best regression hyper-parameters: %r\" %grid_search_regression.best_params_)\n",
        "print(\"Best R2 score: %.2f\" %grid_search_regression.best_score_)"
      ]
    },
    {
      "cell_type": "markdown",
      "metadata": {
        "id": "So8IDhSkrKFo"
      },
      "source": [
        "# Home Exercises\n",
        "\n",
        "**Question 1**\n",
        "\n",
        "Test the SVM classifier with different kernel functions on the Iris and Wine datasets. Perform a grid search to provide the best configuration of the hyper-parameters."
      ]
    },
    {
      "cell_type": "code",
      "execution_count": 7,
      "metadata": {},
      "outputs": [
        {
          "name": "stdout",
          "output_type": "stream",
          "text": [
            "Successfully loaded Iris and Wine datasets.\n",
            "IRIS - Training set size: 130\n",
            "IRIS - Test set size: 20\n",
            "Number of features: 4\n",
            "Number of samples: 150\n",
            "Number of classes: 3\n",
            "----------------------------------------------\n",
            "WINE - Training set size: 118\n",
            "WINE - Test set size: 60\n",
            "Number of features: 13\n",
            "Number of samples: 178\n",
            "Number of classes: 3\n"
          ]
        }
      ],
      "source": [
        "# Load the diabetes dataset\n",
        "iris = datasets.load_iris()\n",
        "wine = datasets.load_wine()\n",
        "\n",
        "print('Successfully loaded Iris and Wine datasets.')\n",
        "\n",
        "# Split the data into training/testing sets\n",
        "iris_X_train = iris.data[:-20]\n",
        "iris_X_test = iris.data[-20:]\n",
        "\n",
        "# Split the targets into training/testing sets\n",
        "iris_y_train = iris.target[:-20]\n",
        "iris_y_test = iris.target[-20:]\n",
        "\n",
        "wine_X_train, wine_X_test, wine_y_train, wine_y_test = train_test_split(wine.data, wine.target, test_size=0.333, \n",
        "                                                    random_state=random.randrange(90))\n",
        "\n",
        "print('IRIS - Training set size: %d' %len(iris_X_train))\n",
        "print('IRIS - Test set size: %d' %len(iris_X_test))\n",
        "print('Number of features: %d' %iris.data.shape[1])\n",
        "print('Number of samples: %d' %iris.data.shape[0])\n",
        "print(\"Number of classes: %d\" %(len(np.unique(iris_y_train))))\n",
        "print('----------------------------------------------')\n",
        "print('WINE - Training set size: %d' %len(wine_X_train))\n",
        "print('WINE - Test set size: %d' %len(wine_X_test))\n",
        "print('Number of features: %d' %wine.data.shape[1])\n",
        "print('Number of samples: %d' %wine.data.shape[0])\n",
        "print(\"Number of classes: %d\" %(len(np.unique(wine_y_train))))"
      ]
    },
    {
      "cell_type": "code",
      "execution_count": 15,
      "metadata": {},
      "outputs": [
        {
          "name": "stdout",
          "output_type": "stream",
          "text": [
            "----------------------------------------------\n",
            "Accuracy Iris: 0.900 %\n",
            "Accuracy Wine: 0.983 %\n",
            "----------------------------------------------\n"
          ]
        }
      ],
      "source": [
        "kernel_name  = 'linear' # 'linear', 'poly', 'rbf', 'sigmoid'\n",
        "\n",
        "classifier_iris = svm.SVC(C=0.9, kernel=kernel_name, gamma='scale')\n",
        "classifier_wine = svm.SVC(C=0.1, kernel=kernel_name, gamma='scale')\n",
        "\n",
        "if (kernel_name == 'poly'):\n",
        "  classifier_iris.degree = 3\n",
        "  classifier_wine.degree = 3\n",
        "\n",
        "# Train the classifier\n",
        "classifier_iris.fit(iris_X_train, iris_y_train)\n",
        "iris_y_pred = classifier_iris.predict(iris_X_test)\n",
        "\n",
        "classifier_wine.fit(wine_X_train, wine_y_train)\n",
        "wine_y_pred = classifier_wine.predict(wine_X_test)\n",
        "\n",
        "scoreIris = accuracy_score(iris_y_test, iris_y_pred)\n",
        "scoreWine = accuracy_score(wine_y_test, wine_y_pred)\n",
        "\n",
        "print('----------------------------------------------')\n",
        "print(\"Accuracy Iris: %.3f %%\" % scoreIris)\n",
        "print(\"Accuracy Wine: %.3f %%\" % scoreWine)\n",
        "print('----------------------------------------------')"
      ]
    },
    {
      "cell_type": "code",
      "execution_count": 16,
      "metadata": {},
      "outputs": [
        {
          "name": "stdout",
          "output_type": "stream",
          "text": [
            "Grid Search for Classification on Wine:\n",
            "Fitting 5 folds for each of 228 candidates, totalling 1140 fits\n",
            "Best classification hyper-parameters: {'C': 0.1, 'degree': 1, 'kernel': 'linear'}\n",
            "Best accuracy: 0.924\n",
            "----------------------------------------------\n",
            "Grid Search for Classification on Iris:\n",
            "Fitting 5 folds for each of 228 candidates, totalling 1140 fits\n",
            "Best classification hyper-parameters: {'C': 0.9, 'degree': 1, 'kernel': 'linear'}\n",
            "Best accuracy: 0.985\n"
          ]
        }
      ],
      "source": [
        "grid_search_classification_wine = GridSearchCV(classifier_wine,\n",
        "                          # Here you can choose the parameters that you want to fit in the gridsearch.\n",
        "                          # In this case the gridsearch will find the best combination between 'C' and 'kernel'\n",
        "                           {\n",
        "                              'C':np.arange(0.1,2,0.1),                            \n",
        "                            'kernel': ('linear', 'rbf','poly','sigmoid'),\n",
        "                            #If the kernel is poly (above line commented), you can also choose the best degree\n",
        "                            #Otherwise keep commented\n",
        "                            'degree': np.arange(1,4,1),\n",
        "                            },cv=5, scoring=\"accuracy\",verbose=1,n_jobs=-1\n",
        "                           )\n",
        "print(\"Grid Search for Classification on Wine:\")\n",
        "grid_search_classification_wine.fit(wine_X_train,wine_y_train)\n",
        "\n",
        "#Best parameters for the classifier\n",
        "print(\"Best classification hyper-parameters: %r\" %grid_search_classification_wine.best_params_)\n",
        "print(\"Best accuracy: %.3f\" %grid_search_classification_wine.best_score_)\n",
        "\n",
        "print('----------------------------------------------')\n",
        "\n",
        "grid_search_classification_iris = GridSearchCV(classifier_iris,\n",
        "                          # Here you can choose the parameters that you want to fit in the gridsearch.\n",
        "                          # In this case the gridsearch will find the best combination between 'C' and 'kernel'\n",
        "                           {\n",
        "                              'C':np.arange(0.1,2,0.1),                            \n",
        "                            'kernel': ('linear', 'rbf','poly','sigmoid'),\n",
        "                            #If the kernel is poly (above line commented), you can also choose the best degree\n",
        "                            #Otherwise keep commented\n",
        "                            'degree': np.arange(1,4,1),\n",
        "                            },cv=5, scoring=\"accuracy\",verbose=1,n_jobs=-1\n",
        "                           )\n",
        "print(\"Grid Search for Classification on Iris:\")\n",
        "print(\"Fitting the Grid Search...\")\n",
        "grid_search_classification_iris.fit(iris_X_train,iris_y_train)\n",
        "\n",
        "#Best parameters for the classifier\n",
        "print(\"Best classification hyper-parameters: %r\" %grid_search_classification_iris.best_params_)\n",
        "print(\"Best accuracy: %.3f\" %grid_search_classification_iris.best_score_)"
      ]
    },
    {
      "cell_type": "markdown",
      "metadata": {},
      "source": [
        "**Question 2** \n",
        "\n",
        "Test the SVM regressor with different kernel functions on the full diabetes dataset. Perform a grid search to provide the best configuration of the hyper-parameters."
      ]
    },
    {
      "cell_type": "code",
      "execution_count": 2,
      "metadata": {},
      "outputs": [
        {
          "name": "stdout",
          "output_type": "stream",
          "text": [
            "Successfully loaded Wine dataset.\n",
            "WINE - Training set size: 118\n",
            "WINE - Test set size: 60\n",
            "Number of features: 13\n",
            "Number of samples: 178\n",
            "Number of classes: 3\n"
          ]
        }
      ],
      "source": [
        "# Load the diabetes dataset\n",
        "wine = datasets.load_wine()\n",
        "\n",
        "print('Successfully loaded Wine dataset.')\n",
        "\n",
        "wine_X_train, wine_X_test, wine_y_train, wine_y_test = train_test_split(wine.data, wine.target, test_size=0.333, \n",
        "                                                    random_state=random.randrange(90))\n",
        "\n",
        "print('WINE - Training set size: %d' %len(wine_X_train))\n",
        "print('WINE - Test set size: %d' %len(wine_X_test))\n",
        "print('Number of features: %d' %wine.data.shape[1])\n",
        "print('Number of samples: %d' %wine.data.shape[0])\n",
        "print(\"Number of classes: %d\" %(len(np.unique(wine_y_train))))"
      ]
    },
    {
      "cell_type": "code",
      "execution_count": 6,
      "metadata": {},
      "outputs": [
        {
          "name": "stdout",
          "output_type": "stream",
          "text": [
            "----------------------------------------------\n",
            "Mean squared error: 0.062\n",
            "R2 score: 0.903\n",
            "----------------------------------------------\n"
          ]
        }
      ],
      "source": [
        "kernel_name  = 'linear' # 'linear', 'poly', 'rbf', 'sigmoid'\n",
        "\n",
        "regressor_wine = svm.SVR(C=0.4, kernel=kernel_name, gamma='scale')\n",
        "\n",
        "if (kernel_name == 'poly'):\n",
        "  regressor_wine.degree = 3\n",
        "\n",
        "# Train the classifier\n",
        "regressor_wine.fit(wine_X_train, wine_y_train)\n",
        "wine_y_pred = regressor_wine.predict(wine_X_test)\n",
        "\n",
        "print('----------------------------------------------')\n",
        "# The mean squared error\n",
        "print(\"Mean squared error: %.3f\" % mean_squared_error(wine_y_test, wine_y_pred))\n",
        "\n",
        "# Explained variance score: 1 is perfect prediction\n",
        "print('R2 score: %.3f' % r2_score(wine_y_test, wine_y_pred))\n",
        "print('----------------------------------------------')"
      ]
    },
    {
      "cell_type": "code",
      "execution_count": 4,
      "metadata": {},
      "outputs": [
        {
          "name": "stdout",
          "output_type": "stream",
          "text": [
            "Grid Search for Regression on Wine dataset:\n",
            "\n",
            "Fitting the Grid Search...\n",
            "----------------------------------------------\n",
            "Fitting 5 folds for each of 580 candidates, totalling 2900 fits\n",
            "GridSearchCV(cv=5, estimator=SVR(C=0.4, kernel='linear'), n_jobs=-1,\n",
            "             param_grid={'C': array([0.1, 0.2, 0.3, 0.4, 0.5, 0.6, 0.7, 0.8, 0.9, 1. , 1.1, 1.2, 1.3,\n",
            "       1.4, 1.5, 1.6, 1.7, 1.8, 1.9, 2. , 2.1, 2.2, 2.3, 2.4, 2.5, 2.6,\n",
            "       2.7, 2.8, 2.9]),\n",
            "                         'degree': array([1, 2, 3, 4, 5]),\n",
            "                         'kernel': ('linear', 'rbf', 'poly', 'sigmoid')},\n",
            "             scoring='r2', verbose=1)\n",
            "----------------------------------------------\n",
            "Best regression hyper-parameters for Wine dataset: {'C': 0.7000000000000001, 'degree': 1, 'kernel': 'linear'}\n",
            "Best R2 score: 0.827\n"
          ]
        }
      ],
      "source": [
        "grid_search_regression = GridSearchCV(regressor_wine,\n",
        "                           {\n",
        "                            'C':np.arange(0.1,3,0.1),                            \n",
        "                            'kernel': ('linear', 'rbf','poly','sigmoid'),\n",
        "                            #If the kernel is poly (above line commented), you can also choose the best degree\n",
        "                            #Otherwise keep commented\n",
        "                            'degree': np.arange(1,6,1),\n",
        "                            },cv=5, scoring=\"r2\",verbose=1,n_jobs=-1\n",
        "                           )\n",
        "print(\"Grid Search for Regression on Wine dataset:\\n\")\n",
        "print(\"Fitting the Grid Search...\")\n",
        "print('----------------------------------------------')\n",
        "print(grid_search_regression.fit(wine_X_train,wine_y_train))\n",
        "print('----------------------------------------------')\n",
        "\n",
        "#Best parameters for the regressor\n",
        "print(\"Best regression hyper-parameters for Wine dataset: %r\" %grid_search_regression.best_params_)\n",
        "print(\"Best R2 score: %.3f\" %grid_search_regression.best_score_)"
      ]
    },
    {
      "cell_type": "markdown",
      "metadata": {},
      "source": []
    }
  ],
  "metadata": {
    "colab": {
      "collapsed_sections": [],
      "provenance": []
    },
    "kernelspec": {
      "display_name": "Python 3.9.13 ('base')",
      "language": "python",
      "name": "python3"
    },
    "language_info": {
      "codemirror_mode": {
        "name": "ipython",
        "version": 3
      },
      "file_extension": ".py",
      "mimetype": "text/x-python",
      "name": "python",
      "nbconvert_exporter": "python",
      "pygments_lexer": "ipython3",
      "version": "3.9.13"
    },
    "vscode": {
      "interpreter": {
        "hash": "0245dcb33ee754f1ac52eeb37726094d614f792ee661c1411187169ef218bd3b"
      }
    }
  },
  "nbformat": 4,
  "nbformat_minor": 0
}
