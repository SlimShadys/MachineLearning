{
  "nbformat": 4,
  "nbformat_minor": 0,
  "metadata": {
    "colab": {
      "provenance": []
    },
    "kernelspec": {
      "name": "python3",
      "display_name": "Python 3"
    }
  },
  "cells": [
    {
      "cell_type": "markdown",
      "metadata": {
        "id": "J2E9dsLhnNE3"
      },
      "source": [
        "# Machine Learning - Exercise 2 \n",
        "# Bayesian Learning\n",
        "\n",
        "See description of the example in Russel & Norvig: Artificial Intelligence: A modern approach. Chap. 20."
      ]
    },
    {
      "cell_type": "code",
      "metadata": {
        "id": "HQOhol3QnEFY"
      },
      "source": [
        "import numpy as np"
      ],
      "execution_count": null,
      "outputs": []
    },
    {
      "cell_type": "markdown",
      "metadata": {
        "id": "9k1Ue3Qvnld7"
      },
      "source": [
        "## Prior knowledge"
      ]
    },
    {
      "cell_type": "code",
      "metadata": {
        "id": "7oRapmCtnpbS",
        "colab": {
          "base_uri": "https://localhost:8080/"
        },
        "outputId": "49ac64a9-1ea5-4cc3-8c6b-829c0a2074ca"
      },
      "source": [
        "PH = np.array([0.1, 0.2, 0.4, 0.2, 0.1])\n",
        "\n",
        "PdH = {}\n",
        "PdH['l'] = np.array([0.0, 0.25, 0.5, 0.75, 1.0])\n",
        "PdH['c'] = 1 - PdH['l']\n",
        "\n",
        "print('P(H) = %s' %(str(PH)))\n",
        "print('P(l|H) = %s' %(str(PdH['l'])))\n",
        "print('P(c|H) = %s' %(str(PdH['c'])))\n",
        "\n",
        "cP = PdH['l'] * PH\n",
        "Pl = np.sum(cP)\n",
        "print('P(l) = sum %s = %.3f' %(str(cP),Pl))"
      ],
      "execution_count": null,
      "outputs": [
        {
          "output_type": "stream",
          "name": "stdout",
          "text": [
            "P(H) = [0.1 0.2 0.4 0.2 0.1]\n",
            "P(l|H) = [0.   0.25 0.5  0.75 1.  ]\n",
            "P(c|H) = [1.   0.75 0.5  0.25 0.  ]\n",
            "P(l) = sum [0.   0.05 0.2  0.15 0.1 ] = 0.500\n"
          ]
        }
      ]
    },
    {
      "cell_type": "markdown",
      "metadata": {
        "id": "pSl9YJgZniT6"
      },
      "source": [
        "## Dataset"
      ]
    },
    {
      "cell_type": "code",
      "metadata": {
        "id": "1DxGwfxxnaq9"
      },
      "source": [
        "D = ['l','l','l','l','l']"
      ],
      "execution_count": null,
      "outputs": []
    },
    {
      "cell_type": "markdown",
      "metadata": {
        "id": "JyMvUpo9nfH7"
      },
      "source": [
        "## Bayesian Learning"
      ]
    },
    {
      "cell_type": "code",
      "metadata": {
        "id": "hdLoFtqYnbo_",
        "colab": {
          "base_uri": "https://localhost:8080/"
        },
        "outputId": "c1d6b63f-b06f-4e1f-aa1b-639955184b51"
      },
      "source": [
        "np.set_printoptions(formatter={'float': '{: 0.3f}'.format})\n",
        "P = PH\n",
        "db = ''\n",
        "print('P(H)      \\t= %s' %(str(PH)))\n",
        "for d in D:\n",
        "    P = P * PdH[d]\n",
        "    P = P / np.sum(P)\n",
        "    db = db+d\n",
        "    print('P(H|%s)  \\t= %s' %(db,str(P)))"
      ],
      "execution_count": null,
      "outputs": [
        {
          "output_type": "stream",
          "name": "stdout",
          "text": [
            "P(H)      \t= [ 0.100  0.200  0.400  0.200  0.100]\n",
            "P(H|l)  \t= [ 0.000  0.100  0.400  0.300  0.200]\n",
            "P(H|ll)  \t= [ 0.000  0.038  0.308  0.346  0.308]\n",
            "P(H|lll)  \t= [ 0.000  0.013  0.211  0.355  0.421]\n",
            "P(H|llll)  \t= [ 0.000  0.004  0.132  0.335  0.529]\n",
            "P(H|lllll)  \t= [ 0.000  0.001  0.078  0.296  0.624]\n"
          ]
        }
      ]
    },
    {
      "cell_type": "markdown",
      "metadata": {
        "id": "MlBCGzO_o7pj"
      },
      "source": [
        "## MAP hypothesis"
      ]
    },
    {
      "cell_type": "code",
      "metadata": {
        "id": "JWXGLTDKpAuH",
        "colab": {
          "base_uri": "https://localhost:8080/"
        },
        "outputId": "cd7d1aa6-e638-4352-ac8b-30f3f7d78a94"
      },
      "source": [
        "i = np.argmax(P)\n",
        "print('MAP hypothesis: h%d' %(i+1))"
      ],
      "execution_count": null,
      "outputs": [
        {
          "output_type": "stream",
          "name": "stdout",
          "text": [
            "MAP hypothesis: h5\n"
          ]
        }
      ]
    },
    {
      "cell_type": "markdown",
      "metadata": {
        "id": "i9ydVfqFrUq-"
      },
      "source": [
        "## Prediction\n",
        "\n",
        "Probability that next candy is lime\n",
        "\n",
        "Using MAP hypothesis"
      ]
    },
    {
      "cell_type": "code",
      "metadata": {
        "id": "25gsB_O1pRe6",
        "colab": {
          "base_uri": "https://localhost:8080/"
        },
        "outputId": "a8b09e37-9107-40b5-90d6-dad9b4e44e21"
      },
      "source": [
        "PlhMAP = PdH['l'][i]\n",
        "print('P(l|h_MAP) = %.3f' %(PlhMAP))"
      ],
      "execution_count": null,
      "outputs": [
        {
          "output_type": "stream",
          "name": "stdout",
          "text": [
            "P(l|h_MAP) = 1.000\n"
          ]
        }
      ]
    },
    {
      "cell_type": "markdown",
      "metadata": {
        "id": "mvvZjlm4rmwW"
      },
      "source": [
        "Using all hypotheses"
      ]
    },
    {
      "cell_type": "code",
      "metadata": {
        "id": "s3T5zb35pWjq",
        "colab": {
          "base_uri": "https://localhost:8080/"
        },
        "outputId": "e84bf415-2452-407f-ba3f-746cdbcb7004"
      },
      "source": [
        "cP = PdH['l'] * P\n",
        "PlD = np.sum(cP)\n",
        "print('P(l|D) = sum %s = %.3f' %(str(cP),PlD))"
      ],
      "execution_count": null,
      "outputs": [
        {
          "output_type": "stream",
          "name": "stdout",
          "text": [
            "P(l|D) = sum [ 0.000  0.000  0.039  0.222  0.624] = 0.886\n"
          ]
        }
      ]
    },
    {
      "cell_type": "markdown",
      "source": [
        "#Home Exercise\n",
        "\n",
        "Di : outcome of rolling a 6-faces die\n",
        "\n",
        "Z = D1 + D2 = sum of the outcomes of rolling 2 dice\n",
        "\n",
        "S = D1 + D2 + D3 = sum of the outcomes of rolling 3 dice\n",
        "\n",
        "Z in [2,12], S in [3,18]\n",
        "\n",
        "**Question 1** \n",
        "\n",
        "Compute\n",
        "\n",
        "Prior: P(S)  -- 16 values summing to 1\n",
        "\n",
        "Posterior: P( S | D1 ) -- 16 x 6 matrix (each column sums to 1)\n",
        "\n",
        "Posterior: P( S | D1, D2 ) -- 16 x 6 x 6 matrix (each column sums to 1)\n",
        "\n",
        "Posterior: P( S | Z ) -- 16 x 12 matrix (each column sums to 1)\n",
        "\n",
        "**Question 2** \n",
        "\n",
        "Verify experimentally that\n",
        "\n",
        "P( S | Z, D1 ) = P ( S | Z )\n",
        "\n"
      ],
      "metadata": {
        "id": "k9YzelgshkEK"
      }
    }
  ]
}