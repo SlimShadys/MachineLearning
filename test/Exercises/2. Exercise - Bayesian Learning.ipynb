{
  "cells": [
    {
      "cell_type": "markdown",
      "metadata": {
        "id": "J2E9dsLhnNE3"
      },
      "source": [
        "# Machine Learning - Exercise 2 \n",
        "# Bayesian Learning\n",
        "\n",
        "See description of the example in Russel & Norvig: Artificial Intelligence: A modern approach. Chap. 20."
      ]
    },
    {
      "cell_type": "code",
      "execution_count": 10,
      "metadata": {
        "id": "HQOhol3QnEFY"
      },
      "outputs": [],
      "source": [
        "import numpy as np\n",
        "import random\n",
        "from random import randrange\n",
        "from datetime import datetime"
      ]
    },
    {
      "cell_type": "markdown",
      "metadata": {
        "id": "9k1Ue3Qvnld7"
      },
      "source": [
        "## Prior knowledge"
      ]
    },
    {
      "cell_type": "code",
      "execution_count": 2,
      "metadata": {
        "colab": {
          "base_uri": "https://localhost:8080/"
        },
        "id": "7oRapmCtnpbS",
        "outputId": "49ac64a9-1ea5-4cc3-8c6b-829c0a2074ca"
      },
      "outputs": [
        {
          "name": "stdout",
          "output_type": "stream",
          "text": [
            "P(H) = [0.1 0.2 0.4 0.2 0.1]\n",
            "P(l|H) = [0.   0.25 0.5  0.75 1.  ]\n",
            "P(c|H) = [1.   0.75 0.5  0.25 0.  ]\n",
            "P(l) = sum [0.   0.05 0.2  0.15 0.1 ] = 0.500\n"
          ]
        }
      ],
      "source": [
        "PH = np.array([0.1, 0.2, 0.4, 0.2, 0.1])\n",
        "\n",
        "PdH = {}\n",
        "\n",
        "# Probability distribution of Lime\n",
        "PdH['l'] = np.array([0.0, 0.25, 0.5, 0.75, 1.0])\n",
        "\n",
        "# Probability distribution of Cherry\n",
        "PdH['c'] = 1 - PdH['l']\n",
        "\n",
        "print('P(H) = %s' %(str(PH)))\n",
        "print('P(l|H) = %s' %(str(PdH['l'])))\n",
        "print('P(c|H) = %s' %(str(PdH['c'])))\n",
        "\n",
        "# Probability of having lime (Slide 19/54 - PDF 5)\n",
        "# Sum of \"P(l|hi) * P(hi)\"\"\n",
        "cP = np.sum(PdH['l'] * PH)\n",
        "\n",
        "print('P(l) = sum %s = %.3f' %(str(PdH['l'] * PH),cP))"
      ]
    },
    {
      "cell_type": "markdown",
      "metadata": {
        "id": "pSl9YJgZniT6"
      },
      "source": [
        "## Dataset"
      ]
    },
    {
      "cell_type": "code",
      "execution_count": 3,
      "metadata": {
        "id": "1DxGwfxxnaq9"
      },
      "outputs": [],
      "source": [
        "D = ['l','l','l','l','l']"
      ]
    },
    {
      "cell_type": "markdown",
      "metadata": {
        "id": "JyMvUpo9nfH7"
      },
      "source": [
        "## Bayesian Learning"
      ]
    },
    {
      "cell_type": "code",
      "execution_count": 4,
      "metadata": {
        "colab": {
          "base_uri": "https://localhost:8080/"
        },
        "id": "hdLoFtqYnbo_",
        "outputId": "c1d6b63f-b06f-4e1f-aa1b-639955184b51"
      },
      "outputs": [
        {
          "name": "stdout",
          "output_type": "stream",
          "text": [
            "P(H)      \t= [ 0.100  0.200  0.400  0.200  0.100]\n",
            "P(H|l)  \t= [ 0.000  0.100  0.400  0.300  0.200]\n",
            "P(H|ll)  \t= [ 0.000  0.038  0.308  0.346  0.308]\n",
            "P(H|lll)  \t= [ 0.000  0.013  0.211  0.355  0.421]\n",
            "P(H|llll)  \t= [ 0.000  0.004  0.132  0.335  0.529]\n",
            "P(H|lllll)  \t= [ 0.000  0.001  0.078  0.296  0.624]\n"
          ]
        }
      ],
      "source": [
        "np.set_printoptions(formatter={'float': '{: 0.3f}'.format})\n",
        "P = PH  # Copy P(H) into a new variable\n",
        "db = '' # This is used to store the 'l' string variables each time we loop.\n",
        "\n",
        "print('P(H)      \\t= %s' %(str(PH)))\n",
        "\n",
        "# Iteration over the \"Lime\" array\n",
        "# Each iteration, we take into consideration the probability of extracting a lime\n",
        "for d in D:\n",
        "    # ---- First iteration ----\n",
        "    # d1 = {Lime}\n",
        "    # alpha = 1 / sum of P\n",
        "    # GENERAL FORMULA ===> P(H|d1) == P({d1}|H1) * P(H1) * alpha\n",
        "    # -------------------------\n",
        "    P = P * PdH[d]\n",
        "    alpha = 1 / np.sum(P)\n",
        "    P = P * alpha\n",
        "    db = db+d\n",
        "    print('P(H|%s)  \\t= %s' %(db,str(P)))"
      ]
    },
    {
      "cell_type": "markdown",
      "metadata": {
        "id": "MlBCGzO_o7pj"
      },
      "source": [
        "## MAP hypothesis"
      ]
    },
    {
      "cell_type": "code",
      "execution_count": 5,
      "metadata": {
        "colab": {
          "base_uri": "https://localhost:8080/"
        },
        "id": "JWXGLTDKpAuH",
        "outputId": "cd7d1aa6-e638-4352-ac8b-30f3f7d78a94"
      },
      "outputs": [
        {
          "name": "stdout",
          "output_type": "stream",
          "text": [
            "MAP hypothesis: h[5]\n"
          ]
        }
      ],
      "source": [
        "# We do the argmax over the array P, which returns us the index of the best hypothesis.\n",
        "i = np.argmax(P)\n",
        "print('MAP hypothesis: h[%d]' %(i+1))"
      ]
    },
    {
      "cell_type": "markdown",
      "metadata": {
        "id": "i9ydVfqFrUq-"
      },
      "source": [
        "## Prediction\n",
        "\n",
        "Probability that next candy is lime\n",
        "\n",
        "Using MAP hypothesis"
      ]
    },
    {
      "cell_type": "code",
      "execution_count": 6,
      "metadata": {
        "colab": {
          "base_uri": "https://localhost:8080/"
        },
        "id": "25gsB_O1pRe6",
        "outputId": "a8b09e37-9107-40b5-90d6-dad9b4e44e21"
      },
      "outputs": [
        {
          "name": "stdout",
          "output_type": "stream",
          "text": [
            "P(l|h_MAP) = 1.000\n"
          ]
        }
      ],
      "source": [
        "PlhMAP = PdH['l'][i]\n",
        "print('P(l|h_MAP) = %.3f' %(PlhMAP))"
      ]
    },
    {
      "cell_type": "markdown",
      "metadata": {
        "id": "mvvZjlm4rmwW"
      },
      "source": [
        "Using all hypotheses"
      ]
    },
    {
      "cell_type": "code",
      "execution_count": 7,
      "metadata": {
        "colab": {
          "base_uri": "https://localhost:8080/"
        },
        "id": "s3T5zb35pWjq",
        "outputId": "e84bf415-2452-407f-ba3f-746cdbcb7004"
      },
      "outputs": [
        {
          "name": "stdout",
          "output_type": "stream",
          "text": [
            "P(l|D) = sum [ 0.000  0.000  0.039  0.222  0.624] = 0.886\n"
          ]
        }
      ],
      "source": [
        "cP = PdH['l'] * P\n",
        "PlD = np.sum(cP)\n",
        "print('P(l|D) = sum %s = %.3f' %(str(cP),PlD))"
      ]
    },
    {
      "cell_type": "markdown",
      "metadata": {
        "id": "k9YzelgshkEK"
      },
      "source": [
        "# Home Exercise\n",
        "\n",
        "Di : outcome of rolling a 6-faces die\n",
        "\n",
        "Z = D1 + D2 = sum of the outcomes of rolling 2 dice\n",
        "\n",
        "S = D1 + D2 + D3 = sum of the outcomes of rolling 3 dice\n",
        "\n",
        "Z in [2,12], S in [3,18]\n",
        "\n",
        "**Question 1** \n",
        "\n",
        "Compute\n",
        "\n",
        "Prior: P(S)  -- 16 values summing to 1\n",
        "\n",
        "Posterior: P( S | D1 ) -- 16 x 6 matrix (each column sums to 1)\n",
        "\n",
        "Posterior: P( S | D1, D2 ) -- 16 x 6 x 6 matrix (each column sums to 1)\n",
        "\n",
        "Posterior: P( S | Z ) -- 16 x 12 matrix (each column sums to 1)"
      ]
    },
    {
      "cell_type": "code",
      "execution_count": 23,
      "metadata": {},
      "outputs": [],
      "source": [
        "def rollDice(dice):\n",
        "    prob = [1/6, 1/6, 1/6, 1/6, 1/6, 1/6]\n",
        "    sequence = np.random.choice(6, size=10, p=prob) + 1\n",
        "    index = sequence[randrange(10)]\n",
        "    return dice[index]\n",
        "\n",
        "dice = np.array([1, 2, 3, 4, 5, 6])\n",
        "\n",
        "Z = rollDice(dice) + rollDice(dice)\n",
        "S = rollDice(dice) + rollDice(dice) + rollDice(dice)\n",
        "\n",
        "# PRIOR\n",
        "PS = []\n",
        "\n",
        "# POSTERIOR\n"
      ]
    },
    {
      "cell_type": "markdown",
      "metadata": {},
      "source": [
        "**Question 2** \n",
        "\n",
        "Verify experimentally that\n",
        "\n",
        "P( S | Z, D1 ) = P ( S | Z )"
      ]
    },
    {
      "cell_type": "code",
      "execution_count": null,
      "metadata": {},
      "outputs": [],
      "source": []
    }
  ],
  "metadata": {
    "colab": {
      "provenance": []
    },
    "kernelspec": {
      "display_name": "Python 3 (ipykernel)",
      "language": "python",
      "name": "python3"
    },
    "language_info": {
      "codemirror_mode": {
        "name": "ipython",
        "version": 3
      },
      "file_extension": ".py",
      "mimetype": "text/x-python",
      "name": "python",
      "nbconvert_exporter": "python",
      "pygments_lexer": "ipython3",
      "version": "3.9.13"
    }
  },
  "nbformat": 4,
  "nbformat_minor": 0
}
