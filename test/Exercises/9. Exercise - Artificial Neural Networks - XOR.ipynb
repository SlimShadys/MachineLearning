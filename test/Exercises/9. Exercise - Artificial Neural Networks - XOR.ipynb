{
  "cells": [
    {
      "cell_type": "markdown",
      "metadata": {
        "id": "K1Ldrsw3gyYK"
      },
      "source": [
        "# Machine Learning - Exercise 9\n",
        "# Artificial Neural Networks for XOR problem\n",
        "\n",
        "XOR function: f(x1,x2) -> {0,1}\n",
        "\n",
        "D = {(0,0,0), (0,1,1), (1,0,1), (1,1,0)}\n",
        "\n",
        "Non linearly separable.\n"
      ]
    },
    {
      "cell_type": "markdown",
      "metadata": {
        "id": "4HDgIK66g8oc"
      },
      "source": [
        "## Import libraries"
      ]
    },
    {
      "cell_type": "code",
      "execution_count": 1,
      "metadata": {
        "colab": {
          "base_uri": "https://localhost:8080/"
        },
        "id": "vGM7ZZulbRfT",
        "outputId": "fd16fa24-d04b-4708-bc6b-443cab3eacaa"
      },
      "outputs": [
        {
          "name": "stdout",
          "output_type": "stream",
          "text": [
            "Tensorflow  2.10.0\n",
            "Keras  2.10.0\n"
          ]
        }
      ],
      "source": [
        "import random\n",
        "import matplotlib\n",
        "import matplotlib.pyplot as plt\n",
        "import numpy as np\n",
        "\n",
        "#import tensorflow.compat.v1 as tf\n",
        "#tf.disable_v2_behavior()\n",
        "import tensorflow as tf\n",
        "import keras\n",
        "\n",
        "from keras.models import Sequential, load_model\n",
        "from keras.layers.core import Dense, Dropout, Activation\n",
        "from keras.optimizers import SGD, RMSprop, Adagrad, Adam, Nadam\n",
        "\n",
        "print('Tensorflow ',tf.__version__)\n",
        "print('Keras ',keras.__version__)\n"
      ]
    },
    {
      "cell_type": "markdown",
      "metadata": {
        "id": "nOa7QmaDlSBm"
      },
      "source": [
        "## Create data set\n",
        "\n",
        "Enable the noise flag to create a noisy XOR data set.\n",
        "\n",
        "Fix random seed to repeat experiments."
      ]
    },
    {
      "cell_type": "code",
      "execution_count": 2,
      "metadata": {
        "id": "uQ_0054pI20V"
      },
      "outputs": [],
      "source": [
        "# random seed\n",
        "rs = 20201108 # OK \n",
        "#rs = 20211107 # NO\n",
        "\n",
        "np.random.seed(rs)\n",
        "tf.random.set_seed(rs)"
      ]
    },
    {
      "cell_type": "markdown",
      "metadata": {
        "id": "VHB2k_9WI-zb"
      },
      "source": [
        "Set noise flag"
      ]
    },
    {
      "cell_type": "code",
      "execution_count": 3,
      "metadata": {
        "id": "j0ekq6GIJCRY"
      },
      "outputs": [],
      "source": [
        "# generatining noisy data\n",
        "noise = False"
      ]
    },
    {
      "cell_type": "markdown",
      "metadata": {
        "id": "dbegYhnEI6U8"
      },
      "source": [
        "Generate the data set\n"
      ]
    },
    {
      "cell_type": "code",
      "execution_count": 4,
      "metadata": {
        "colab": {
          "base_uri": "https://localhost:8080/",
          "height": 335
        },
        "id": "8_56HRZylWV4",
        "outputId": "b1713891-9cce-48e3-ada6-f5e86712d711"
      },
      "outputs": [
        {
          "name": "stdout",
          "output_type": "stream",
          "text": [
            "Dataset: XOR\n",
            "Number of features: 2\n",
            "Number of samples: 4\n",
            "Example X[0] = [0. 0.]\n",
            "Example t[0] = 0.0\n"
          ]
        },
        {
          "data": {
            "image/png": "[encoded data removed]",
            "text/plain": [
              "<Figure size 640x480 with 1 Axes>"
            ]
          },
          "metadata": {},
          "output_type": "display_data"
        }
      ],
      "source": [
        "# Define the XOR dataset\n",
        "xor_db = np.array([[0,0,0], [0,1,1], [1,0,1], [1,1,0]], dtype=float)\n",
        "\n",
        "if (noise):\n",
        "  for i in range(4):\n",
        "    for k in range(10):\n",
        "      d = xor_db[i]\n",
        "      d[0] += np.random.random()*0.2 - 0.1\n",
        "      d[1] += np.random.random()*0.2 - 0.1\n",
        "      xor_db = np.vstack([xor_db, d])\n",
        "\n",
        "X = xor_db[:,0:-1]\n",
        "t = xor_db[:,-1]\n",
        "\n",
        "ninput = X.shape[1]   # Features\n",
        "nsamples = X.shape[0] # Samples\n",
        "\n",
        "print('Dataset: XOR')\n",
        "print('Number of features: %d' %ninput)\n",
        "print('Number of samples: %d' %nsamples)\n",
        "print(F'Example X[0] = {X[0]}')\n",
        "print(F'Example t[0] = {t[0]}')\n",
        "\n",
        "# print options\n",
        "np.set_printoptions(precision=3, formatter={'float':lambda x: '%6.3f' %x}, suppress=True)\n",
        "\n",
        "# plot dataset\n",
        "plt.title(\"Data set\")\n",
        "plt.xlim(xmin = -0.5, xmax = 1.5)\n",
        "plt.ylim(ymin = -0.5, ymax = 1.5)\n",
        "\n",
        "cm = plt.cm.get_cmap('rainbow')\n",
        "plt.scatter(X[:,0], X[:,1], c=t, cmap=cm)\n",
        "\n",
        "plt.show()"
      ]
    },
    {
      "cell_type": "markdown",
      "metadata": {
        "id": "me8_rH3ahELo"
      },
      "source": [
        "## ANN for XOR dataset\n",
        "\n",
        "Create model with 2 layers:\n",
        "\n",
        "hidden layer with two ReLU units, \n",
        "\n",
        "output layer with 1 linear unit.\n",
        "\n",
        "Fix random seed to repeat experiments. Two values are given showing convergence to global vs. local minimum."
      ]
    },
    {
      "cell_type": "markdown",
      "metadata": {
        "id": "TxuaAuL9L2WR"
      },
      "source": [
        "Define the model layout and \n",
        "parameters"
      ]
    },
    {
      "cell_type": "code",
      "execution_count": 5,
      "metadata": {
        "id": "6NJpyriUL4ad"
      },
      "outputs": [],
      "source": [
        "nh = 2 # nr. of hidden units\n",
        "acth = 'relu' # activation function for hidden units\n",
        "no = 1 # nr. of output units\n",
        "acto = 'linear' # activation function for output unit\n",
        "lossfn = 'mean_squared_error' # loss function"
      ]
    },
    {
      "cell_type": "markdown",
      "metadata": {
        "id": "ntZDoxxiLv01"
      },
      "source": [
        "Choose the optimizer"
      ]
    },
    {
      "cell_type": "code",
      "execution_count": 6,
      "metadata": {
        "id": "5OiCVXtRLzM_"
      },
      "outputs": [],
      "source": [
        "lrate = 0.001 # learning rate\n",
        "\n",
        "#opt = SGD(learning_rate=lrate) # SGD optimizer\n",
        "opt = RMSprop(learning_rate=lrate) # RMSprop optimizer"
      ]
    },
    {
      "cell_type": "markdown",
      "metadata": {
        "id": "0VKKAuVmL_Ap"
      },
      "source": [
        "Create the ANN model"
      ]
    },
    {
      "cell_type": "code",
      "execution_count": 7,
      "metadata": {
        "colab": {
          "base_uri": "https://localhost:8080/"
        },
        "id": "k3b_tqSabpU9",
        "outputId": "3942ffd8-4220-4e02-ed2a-8bd5e5927e51"
      },
      "outputs": [
        {
          "name": "stdout",
          "output_type": "stream",
          "text": [
            "Model: \"sequential\"\n",
            "_________________________________________________________________\n",
            " Layer (type)                Output Shape              Param #   \n",
            "=================================================================\n",
            " dense (Dense)               (None, 2)                 6         \n",
            "                                                                 \n",
            " dense_1 (Dense)             (None, 1)                 3         \n",
            "                                                                 \n",
            "=================================================================\n",
            "Total params: 9\n",
            "Trainable params: 9\n",
            "Non-trainable params: 0\n",
            "_________________________________________________________________\n",
            "None\n"
          ]
        }
      ],
      "source": [
        "# Create ANN model\n",
        "model = Sequential()\n",
        "# We add 2 layers, where input here is the number of features.\n",
        "# Activation function here is ReLU.\n",
        "model.add(Dense(nh, input_dim=ninput, activation=acth))\n",
        "\n",
        "# We add an output layer, where activation function here is 'Linear'\n",
        "model.add(Dense(no, activation=acto))\n",
        "\n",
        "# We compile the model with Mean Squared Errorr as Loss Function\n",
        "model.compile(loss=lossfn, optimizer=opt, metrics=['accuracy'])\n",
        "\n",
        "print(model.summary())"
      ]
    },
    {
      "cell_type": "markdown",
      "metadata": {
        "id": "7WGtnOsZhMzO"
      },
      "source": [
        "## Training"
      ]
    },
    {
      "cell_type": "markdown",
      "metadata": {
        "id": "Ff8ZrDFRMJp9"
      },
      "source": [
        "Training parameters"
      ]
    },
    {
      "cell_type": "code",
      "execution_count": 8,
      "metadata": {
        "id": "rHQLdgJ_MSeA"
      },
      "outputs": [],
      "source": [
        "nepochs = 100     # nr. of learning steps\n",
        "batch_size = 8    # batch_size\n",
        "niter = 0         # iteration counter\n",
        "hv = []           # history vector (for plotting)\n",
        "i = 0"
      ]
    },
    {
      "cell_type": "markdown",
      "metadata": {
        "id": "r4q3zj6ZMWgs"
      },
      "source": [
        "Training step"
      ]
    },
    {
      "cell_type": "code",
      "execution_count": 9,
      "metadata": {
        "colab": {
          "base_uri": "https://localhost:8080/"
        },
        "id": "4zqXyBhEzvcB",
        "outputId": "e19cc0d9-4496-4dfc-80c6-a5d6dca9dfb9"
      },
      "outputs": [
        {
          "name": "stdout",
          "output_type": "stream",
          "text": [
            "Iteration 100 - Accuracy 0.50 Loss 0.543358\n",
            "1/1 [==============================] - 0s 69ms/step\n",
            "Test [[ 0.106 -0.085  0.030 -0.188]]\n",
            "-----------------------------------------------------\n",
            "Iteration 200 - Accuracy 0.50 Loss 0.376434\n",
            "1/1 [==============================] - 0s 19ms/step\n",
            "Test [[ 0.203  0.111  0.184  0.059]]\n",
            "-----------------------------------------------------\n",
            "Iteration 300 - Accuracy 0.50 Loss 0.294961\n",
            "1/1 [==============================] - 0s 19ms/step\n",
            "Test [[ 0.299  0.268  0.299  0.246]]\n",
            "-----------------------------------------------------\n",
            "Iteration 400 - Accuracy 0.50 Loss 0.257858\n",
            "1/1 [==============================] - 0s 18ms/step\n",
            "Test [[ 0.393  0.374  0.393  0.339]]\n",
            "-----------------------------------------------------\n",
            "Iteration 500 - Accuracy 0.50 Loss 0.230543\n",
            "1/1 [==============================] - 0s 19ms/step\n",
            "Test [[ 0.484  0.480  0.484  0.388]]\n",
            "-----------------------------------------------------\n",
            "Iteration 600 - Accuracy 0.75 Loss 0.216652\n",
            "1/1 [==============================] - 0s 19ms/step\n",
            "Test [[ 0.538  0.538  0.538  0.386]]\n",
            "-----------------------------------------------------\n",
            "Iteration 700 - Accuracy 0.75 Loss 0.205071\n",
            "1/1 [==============================] - 0s 20ms/step\n",
            "Test [[ 0.554  0.553  0.553  0.337]]\n",
            "-----------------------------------------------------\n",
            "Iteration 800 - Accuracy 0.75 Loss 0.194160\n",
            "1/1 [==============================] - 0s 18ms/step\n",
            "Test [[ 0.571  0.570  0.570  0.285]]\n",
            "-----------------------------------------------------\n",
            "Iteration 900 - Accuracy 0.75 Loss 0.184794\n",
            "1/1 [==============================] - 0s 19ms/step\n",
            "Test [[ 0.590  0.590  0.590  0.233]]\n",
            "-----------------------------------------------------\n",
            "Iteration 1000 - Accuracy 0.75 Loss 0.177008\n",
            "1/1 [==============================] - 0s 19ms/step\n",
            "Test [[ 0.608  0.607  0.607  0.174]]\n",
            "-----------------------------------------------------\n",
            "Iteration 1100 - Accuracy 0.75 Loss 0.171438\n",
            "1/1 [==============================] - 0s 23ms/step\n",
            "Test [[ 0.627  0.626  0.626  0.118]]\n",
            "-----------------------------------------------------\n",
            "Iteration 1200 - Accuracy 0.75 Loss 0.168131\n",
            "1/1 [==============================] - 0s 18ms/step\n",
            "Test [[ 0.645  0.645  0.645  0.065]]\n",
            "-----------------------------------------------------\n",
            "Iteration 1300 - Accuracy 0.75 Loss 0.166808\n",
            "1/1 [==============================] - 0s 20ms/step\n",
            "Test [[ 0.659  0.659  0.659  0.019]]\n",
            "-----------------------------------------------------\n",
            "Iteration 1400 - Accuracy 0.75 Loss 0.166668\n",
            "1/1 [==============================] - 0s 18ms/step\n",
            "Test [[ 0.666  0.666  0.666 -0.002]]\n",
            "-----------------------------------------------------\n",
            "Iteration 1500 - Accuracy 0.75 Loss 0.166668\n",
            "1/1 [==============================] - 0s 20ms/step\n",
            "Test [[ 0.666  0.666  0.666 -0.002]]\n",
            "-----------------------------------------------------\n",
            "Iteration 1600 - Accuracy 0.75 Loss 0.166668\n",
            "1/1 [==============================] - 0s 19ms/step\n",
            "Test [[ 0.666  0.666  0.666 -0.002]]\n",
            "-----------------------------------------------------\n",
            "Iteration 1700 - Accuracy 0.75 Loss 0.166668\n",
            "1/1 [==============================] - 0s 19ms/step\n",
            "Test [[ 0.666  0.666  0.666 -0.002]]\n",
            "-----------------------------------------------------\n",
            "Iteration 1800 - Accuracy 0.75 Loss 0.166668\n",
            "1/1 [==============================] - 0s 17ms/step\n",
            "Test [[ 0.666  0.666  0.666 -0.002]]\n",
            "-----------------------------------------------------\n",
            "Iteration 1900 - Accuracy 0.75 Loss 0.166668\n",
            "1/1 [==============================] - 0s 20ms/step\n",
            "Test [[ 0.666  0.666  0.666 -0.002]]\n",
            "-----------------------------------------------------\n",
            "Iteration 2000 - Accuracy 0.75 Loss 0.166668\n",
            "1/1 [==============================] - 0s 20ms/step\n",
            "Test [[ 0.666  0.666  0.666 -0.002]]\n",
            "-----------------------------------------------------\n"
          ]
        }
      ],
      "source": [
        "for i in range(20):\n",
        "  h = model.fit(X, t, batch_size=batch_size, epochs=nepochs, verbose=0)\n",
        "  hv.append(h)\n",
        "  niter += nepochs\n",
        "  current_loss = h.history['loss'][len(h.history['loss'])-1]\n",
        "  current_acc = h.history['accuracy'][len(h.history['accuracy'])-1]\n",
        "  print(\"Iteration %d - Accuracy %.2f Loss %f\" \n",
        "      %(niter,current_acc,current_loss))\n",
        "  \n",
        "  if (X.shape[0]==4):\n",
        "    yp = model.predict(X)\n",
        "    print(\"Test %s\" %(np.transpose(yp)))\n",
        "    print(\"-----------------------------------------------------\")"
      ]
    },
    {
      "cell_type": "markdown",
      "metadata": {
        "id": "FZBE0gClhWRM"
      },
      "source": [
        "## Plot results"
      ]
    },
    {
      "cell_type": "code",
      "execution_count": 10,
      "metadata": {
        "colab": {
          "base_uri": "https://localhost:8080/",
          "height": 563
        },
        "id": "nkM89Q6ehYWG",
        "outputId": "0634fed7-6e9d-4079-f535-27b17e9a032c"
      },
      "outputs": [
        {
          "name": "stdout",
          "output_type": "stream",
          "text": [
            "2000\n"
          ]
        },
        {
          "data": {
            "image/png": "[encoded data removed]",
            "text/plain": [
              "<Figure size 640x480 with 1 Axes>"
            ]
          },
          "metadata": {},
          "output_type": "display_data"
        },
        {
          "data": {
            "image/png": "[encoded data removed]",
            "text/plain": [
              "<Figure size 640x480 with 1 Axes>"
            ]
          },
          "metadata": {},
          "output_type": "display_data"
        }
      ],
      "source": [
        "ploss = []\n",
        "pacc = []\n",
        "\n",
        "for i in range(len(hv)):\n",
        "  ploss += hv[i].history['loss']\n",
        "  pacc  += hv[i].history['accuracy']\n",
        "print(len(ploss))\n",
        "\n",
        "plt.title(\"Loss\")\n",
        "plt.ylim(-0.02,max(ploss))\n",
        "plt.plot(ploss, color='red')\n",
        "plt.show()\n",
        "\n",
        "plt.title(\"Accuracy\")\n",
        "plt.ylim(min(pacc),1.02)\n",
        "plt.plot(pacc, color='blue')\n",
        "plt.show()\n"
      ]
    },
    {
      "cell_type": "markdown",
      "metadata": {
        "id": "dGhr0v7ohRnj"
      },
      "source": [
        "## Analysis of the model"
      ]
    },
    {
      "cell_type": "code",
      "execution_count": 11,
      "metadata": {
        "colab": {
          "base_uri": "https://localhost:8080/",
          "height": 427
        },
        "id": "sRsKTn2cbkre",
        "outputId": "c5da3b53-6af7-4be7-e861-52c3ec8e7a96"
      },
      "outputs": [
        {
          "name": "stdout",
          "output_type": "stream",
          "text": [
            "W =  [array([[-0.445,  0.663],\n",
            "       [-0.901,  0.663]], dtype=float32), array([ 0.000, -0.664], dtype=float32), array([[ 1.122],\n",
            "       [-1.010]], dtype=float32), array([ 0.666], dtype=float32)]\n",
            "H =  [[0 0]\n",
            " [0 0]\n",
            " [0 0]\n",
            " [0 0]]\n"
          ]
        },
        {
          "data": {
            "image/png": "[encoded data removed]",
            "text/plain": [
              "<Figure size 640x480 with 1 Axes>"
            ]
          },
          "metadata": {},
          "output_type": "display_data"
        }
      ],
      "source": [
        "W = model.get_weights()\n",
        "print('W = ',W)\n",
        "\n",
        "H = []\n",
        "\n",
        "for x in X:\n",
        "  v = np.transpose(W[0]).dot(x) + W[1]\n",
        "  h = max([0,0],list(v))  # relu\n",
        "  H += [h]\n",
        "\n",
        "H = np.array(H)\n",
        "if H.shape[0]==4:\n",
        "  print('H = ',H)\n",
        "\n",
        "# plot h values\n",
        "\n",
        "plt.title(\"Hidden layer values\")\n",
        "\n",
        "cm = plt.cm.get_cmap('rainbow')\n",
        "plt.scatter(H[:,0], H[:,1], c=t, cmap=cm)\n",
        "\n",
        "plt.show()\n"
      ]
    },
    {
      "cell_type": "markdown",
      "metadata": {
        "id": "jTIrT76Yzlep"
      },
      "source": [
        "# Home Exercises\n",
        "\n",
        "**Question 1**\n",
        "\n",
        "Compare the results when using different values of the learning rate. \n",
        "\n",
        "**Question 2**\n",
        "\n",
        "What happens when the learning rate is too high?\n",
        "\n",
        "**Question 3**\n",
        "\n",
        "Evaluate impact of random seed to performance, fill a line inside this shared sheet repeating the code in this exercise with your matricola code as random seed.\n",
        "\n",
        "https://docs.google.com/spreadsheets/d/1ZH6QZWpEMj1Mwe_uTQWxHboSakBl8j30MqbgIhDSMjA"
      ]
    }
  ],
  "metadata": {
    "colab": {
      "collapsed_sections": [],
      "provenance": []
    },
    "kernelspec": {
      "display_name": "Python 3.9.13 ('tf')",
      "language": "python",
      "name": "python3"
    },
    "language_info": {
      "codemirror_mode": {
        "name": "ipython",
        "version": 3
      },
      "file_extension": ".py",
      "mimetype": "text/x-python",
      "name": "python",
      "nbconvert_exporter": "python",
      "pygments_lexer": "ipython3",
      "version": "3.9.13"
    },
    "vscode": {
      "interpreter": {
        "hash": "b63788f291241870278dbb9e644c0fb8fdb51a5e69b8360d07cc76ffa05d127b"
      }
    }
  },
  "nbformat": 4,
  "nbformat_minor": 0
}
