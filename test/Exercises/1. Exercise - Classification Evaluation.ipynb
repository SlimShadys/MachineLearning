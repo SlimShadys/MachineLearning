{
  "cells": [
    {
      "cell_type": "markdown",
      "metadata": {
        "id": "Z3GYzNWONtju"
      },
      "source": [
        "# Machine Learning - Exercise 1\n",
        "# Classification Evaluation\n",
        "\n",
        "This exercise illustrates examples of evaluation of solutions of classification problems."
      ]
    },
    {
      "cell_type": "markdown",
      "metadata": {
        "id": "eDEJU1RwoIlv"
      },
      "source": [
        "## Import libraries\n",
        "\n",
        "Import libraries that contains the implementations of the functions used in the rest of the program.\n",
        "\n"
      ]
    },
    {
      "cell_type": "code",
      "execution_count": 24,
      "metadata": {
        "colab": {
          "base_uri": "https://localhost:8080/"
        },
        "id": "BSKuPnIXNoq2",
        "outputId": "ceb3e6be-c9b2-433b-f08f-7b93b4eecc42"
      },
      "outputs": [
        {
          "name": "stdout",
          "output_type": "stream",
          "text": [
            "Libraries imported.\n"
          ]
        }
      ],
      "source": [
        "import random\n",
        "import numpy as np\n",
        "import sklearn.metrics \n",
        "from sklearn import datasets\n",
        "from sklearn.model_selection import train_test_split, cross_val_score, ShuffleSplit, GridSearchCV\n",
        "from sklearn import svm\n",
        "from sklearn import tree\n",
        "from sklearn.naive_bayes import GaussianNB\n",
        "from sklearn.linear_model import LogisticRegression\n",
        "from sklearn.metrics import classification_report, confusion_matrix\n",
        "from sklearn.utils.multiclass import unique_labels\n",
        "import matplotlib.pyplot as plt\n",
        "\n",
        "def plot_confusion_matrix(y_true, y_pred, classes,\n",
        "                          normalize=False,\n",
        "                          title=None,\n",
        "                          cmap=plt.cm.Blues):\n",
        "    \"\"\"\n",
        "    This function prints and plots the confusion matrix.\n",
        "    Normalization can be applied by setting `normalize=True`.\n",
        "    \"\"\"\n",
        "    if not title:\n",
        "        if normalize:\n",
        "            title = 'Normalized confusion matrix'\n",
        "        else:\n",
        "            title = 'Confusion matrix, without normalization'\n",
        "\n",
        "    # Compute confusion matrix\n",
        "    cm = confusion_matrix(y_true, y_pred)\n",
        "    # Only use the labels that appear in the data\n",
        "    classes = classes[unique_labels(y_true, y_pred)]\n",
        "    if normalize:\n",
        "        cm = cm.astype('float') / cm.sum(axis=1)[:, np.newaxis]\n",
        "        #print(\"Normalized confusion matrix\")\n",
        "    else:\n",
        "        pass\n",
        "        #print('Confusion matrix, without normalization')\n",
        "\n",
        "    #print(cm)\n",
        "\n",
        "    fig, ax = plt.subplots()\n",
        "    im = ax.imshow(cm, interpolation='nearest', cmap=cmap)\n",
        "    ax.figure.colorbar(im, ax=ax)\n",
        "    # We want to show all ticks...\n",
        "    ax.set(xticks=np.arange(cm.shape[1]),\n",
        "           yticks=np.arange(cm.shape[0]),\n",
        "           # ... and label them with the respective list entries\n",
        "           xticklabels=classes, yticklabels=classes,\n",
        "           title=title,\n",
        "           ylabel='True label',\n",
        "           xlabel='Predicted label')\n",
        "\n",
        "    ax.set_ylim(len(classes)-0.5, -0.5)\n",
        "\n",
        "    # Rotate the tick labels and set their alignment.\n",
        "    plt.setp(ax.get_xticklabels(), rotation=45, ha=\"right\",\n",
        "             rotation_mode=\"anchor\")\n",
        "\n",
        "    # Loop over data dimensions and create text annotations.\n",
        "    fmt = '.2f' if normalize else 'd'\n",
        "    thresh = cm.max() / 2.\n",
        "    for i in range(cm.shape[0]):\n",
        "        for j in range(cm.shape[1]):\n",
        "            ax.text(j, i, format(cm[i, j], fmt),\n",
        "                    ha=\"center\", va=\"center\",\n",
        "                    color=\"white\" if cm[i, j] > thresh else \"black\")\n",
        "    fig.tight_layout()\n",
        "    return ax\n",
        "\n",
        "print(\"Libraries imported.\")"
      ]
    },
    {
      "cell_type": "markdown",
      "metadata": {
        "id": "KaeLRpWIfO1m"
      },
      "source": [
        "## Load data\n",
        "\n",
        "Load training data.\n",
        "\n",
        "Choose one of the datasets described in the next subsections.\n",
        "\n",
        "More details on these datasets are available in https://scikit-learn.org/stable/datasets/toy_dataset.html\n"
      ]
    },
    {
      "cell_type": "markdown",
      "metadata": {
        "id": "w8_6LSAHa6Vb"
      },
      "source": [
        "### IRIS dataset"
      ]
    },
    {
      "cell_type": "code",
      "execution_count": 3,
      "metadata": {
        "id": "0nHa8mpWbAEp"
      },
      "outputs": [],
      "source": [
        "DB = datasets.load_iris()\n",
        "dataset_name = \"Iris\"\n",
        "class_names = np.array([str(c) for c in DB.target_names])\n",
        "X_all = DB.data\n",
        "y_all = DB.target"
      ]
    },
    {
      "cell_type": "markdown",
      "metadata": {
        "id": "rVA8XiMvbDBc"
      },
      "source": [
        "### Wine dataset"
      ]
    },
    {
      "cell_type": "code",
      "execution_count": 4,
      "metadata": {
        "id": "JkazgPcGbJhT"
      },
      "outputs": [],
      "source": [
        "DB = datasets.load_wine()\n",
        "dataset_name = \"Wines\"\n",
        "class_names = np.array([str(c) for c in DB.target_names])\n",
        "X_all = DB.data\n",
        "y_all = DB.target"
      ]
    },
    {
      "cell_type": "markdown",
      "metadata": {
        "id": "6jVsMFO3bNji"
      },
      "source": [
        "### Digits dataset"
      ]
    },
    {
      "cell_type": "code",
      "execution_count": 25,
      "metadata": {
        "id": "Virn0LFUbSVn"
      },
      "outputs": [],
      "source": [
        "DB = datasets.load_digits()\n",
        "dataset_name = \"Digits\"\n",
        "class_names = np.array([str(c) for c in DB.target_names])\n",
        "X_all = DB.data\n",
        "y_all = DB.target"
      ]
    },
    {
      "cell_type": "markdown",
      "metadata": {
        "id": "QvbEt6KwfSVm"
      },
      "source": [
        "### Unbalanced Digits dataset\n",
        "\n",
        "Adapted from the Digits dataset with digit 0 mapped to class '0' and all other digits mapped to class '1'"
      ]
    },
    {
      "cell_type": "code",
      "execution_count": 6,
      "metadata": {
        "colab": {
          "base_uri": "https://localhost:8080/"
        },
        "id": "c4TpTJFTcOYM",
        "outputId": "41e1f311-6211-4450-d14d-4dea0aa5026f"
      },
      "outputs": [
        {
          "name": "stdout",
          "output_type": "stream",
          "text": [
            "Percentage of non-zero digits: 0.900946021146355 (1619 samples)\n",
            "Percentage of zero digits: 0.09905397885364498 (178 samples)\n"
          ]
        }
      ],
      "source": [
        "# Binary Digits unbalanced\n",
        "DB = datasets.load_digits()\n",
        "dataset_name = \"Digits_01_unbalanced\"\n",
        "class_names = np.array([\"0\",\"1\"])\n",
        "X_all = DB.data\n",
        "y_all = DB.target\n",
        "cont = 0\n",
        "for i in range(0,len(y_all)):\n",
        "  if y_all[i] != 0:\n",
        "    y_all[i] = 1\n",
        "    cont += 1\n",
        "print(F\"Percentage of non-zero digits: {cont/len(y_all)} ({cont} samples)\")\n",
        "print(F\"Percentage of zero digits: {1 - cont/len(y_all)} ({len(y_all) - cont} samples)\")"
      ]
    },
    {
      "cell_type": "markdown",
      "metadata": {
        "id": "w-FjcBe_bVSm"
      },
      "source": [
        "### Summary of the dataset\n",
        "\n",
        "Print some information about the dataset.\n",
        "\n",
        "Data structures\n",
        "\n",
        "    Input X: array ( n x m )\n",
        "    Output Y: array ( n x 1 )"
      ]
    },
    {
      "cell_type": "code",
      "execution_count": 26,
      "metadata": {
        "colab": {
          "base_uri": "https://localhost:8080/"
        },
        "id": "7kECuF5cgxxW",
        "outputId": "e8113fd4-ac29-4ec0-e6da-ef24939c2a46"
      },
      "outputs": [
        {
          "name": "stdout",
          "output_type": "stream",
          "text": [
            "Dataset: Digits\n",
            "Input shape: (1797, 64)\n",
            "Output shape: (1797,)\n",
            "Number of attributes/features: 64\n",
            "Number of classes: 10 ['0' '1' '2' '3' '4' '5' '6' '7' '8' '9']\n",
            "Number of samples: 1797\n"
          ]
        }
      ],
      "source": [
        "print(\"Dataset: %s\" %(dataset_name))\n",
        "print(\"Input shape: %s\" %str(X_all.shape))\n",
        "print(\"Output shape: %s\" %str(y_all.shape))\n",
        "print(\"Number of attributes/features: %d\" %(X_all.shape[1]))\n",
        "print(\"Number of classes: %d %s\" %(len(class_names), str(class_names)))\n",
        "print(\"Number of samples: %d\" %(X_all.shape[0]))"
      ]
    },
    {
      "cell_type": "markdown",
      "metadata": {
        "id": "aJrwXXvsrEHn"
      },
      "source": [
        "### Show an example\n",
        "\n",
        "Display a random sample."
      ]
    },
    {
      "cell_type": "code",
      "execution_count": 27,
      "metadata": {
        "colab": {
          "base_uri": "https://localhost:8080/"
        },
        "id": "-m2VMd9YrSBS",
        "outputId": "2b0471e7-d9cb-47b8-e23f-8770808f3c8c"
      },
      "outputs": [
        {
          "name": "stdout",
          "output_type": "stream",
          "text": [
            "Input x at position 427 is: array([ 0.,  0.,  0.,  5., 14.,  0.,  0.,  0.,  0.,  0.,  0., 13., 14.,\n",
            "       12.,  0.,  0.,  0.,  0.,  7., 13.,  6., 13.,  0.,  0.,  0.,  2.,\n",
            "       16.,  3., 10., 11.,  0.,  0.,  0.,  6., 16., 13., 16., 16.,  5.,\n",
            "        0.,  0.,  2.,  8.,  9., 16., 11.,  2.,  0.,  0.,  0.,  0.,  3.,\n",
            "       16.,  0.,  0.,  0.,  0.,  0.,  0.,  7., 12.,  0.,  0.,  0.])\n",
            "Output y at position 427 is: 4 ['4']\n"
          ]
        }
      ],
      "source": [
        "id = random.randrange(0,X_all.shape[0])\n",
        "\n",
        "print(\"Input x at position %d is: %r\" %(id,X_all[id]))\n",
        "print(\"Output y at position %d is: %r ['%s']\" %(id,y_all[id],class_names[y_all[id]]))"
      ]
    },
    {
      "cell_type": "markdown",
      "metadata": {
        "id": "eJ2bbJe8txnH"
      },
      "source": [
        "##Split data\n",
        "\n",
        "Split the data set \"X_all\" in training set `X_train`, `y_train` and test set `X_test`, `y_test`, using `test_size` to denote percentage of samples in the test set.\n",
        "\n",
        "Note:\n",
        "`random_state` parameter is used as random seed. Change this value to generate a different split.\n",
        "\n",
        "IMPORTANT: solution will depend on this data split.\n"
      ]
    },
    {
      "cell_type": "code",
      "execution_count": 28,
      "metadata": {
        "colab": {
          "base_uri": "https://localhost:8080/"
        },
        "id": "IWKwFR-It1-D",
        "outputId": "a7a0ffa4-b352-42f4-c292-4f6f0cdc9b3a"
      },
      "outputs": [
        {
          "name": "stdout",
          "output_type": "stream",
          "text": [
            "Size of training set: 1198\n",
            "Size of test set: 599\n",
            "First training sample\n",
            "    x_train_0 = array([ 0.,  0.,  1., 13.,  4.,  0.,  0.,  0.,  0.,  0.,  5., 15.,  2.,\n",
            "        0.,  0.,  0.,  0.,  0., 12.,  7.,  0.,  0.,  0.,  0.,  0.,  0.,\n",
            "       14.,  6.,  0.,  0.,  0.,  0.,  0.,  0., 16., 12., 15., 15.,  7.,\n",
            "        0.,  0.,  0., 14., 14.,  6.,  4., 14.,  1.,  0.,  0.,  9., 14.,\n",
            "        3.,  4., 14.,  2.,  0.,  0.,  1.,  7., 14., 16., 11.,  0.])\n",
            "    y_train_0 = 6 ['6']\n",
            "First test sample\n",
            "    x_test_0 = array([ 0.,  0.,  0.,  8., 13.,  0.,  0.,  0.,  0.,  0.,  0., 14.,  6.,\n",
            "        0.,  0.,  0.,  0.,  0.,  6., 12.,  0.,  0.,  0.,  0.,  0.,  0.,\n",
            "        8., 13.,  8.,  2.,  0.,  0.,  0.,  0., 13., 16., 13., 14.,  4.,\n",
            "        0.,  0.,  0., 11.,  8.,  2.,  3., 13.,  0.,  0.,  0.,  7., 11.,\n",
            "        5., 12., 11.,  0.,  0.,  0.,  1., 11., 12.,  4.,  0.,  0.])\n",
            "    y_test_0 = 6 ['6']\n"
          ]
        }
      ],
      "source": [
        "# Given a certain percentage, we split the input/output vectors for training and testing.\n",
        "# EXAMPLE: Let's consider we have a shape of 1000 samples.\n",
        "# If we consider splitting 33% for the testing dataset, it means that the vector X (input)\n",
        "# and vector Y (output) will be splitted in 670 samples for training and 230 for testing.\n",
        "\n",
        "X_train, X_test, y_train, y_test = train_test_split(X_all, y_all, test_size=0.333, \n",
        "                                                    random_state=117)\n",
        "\n",
        "print(\"Size of training set: %d\" %X_train.shape[0])\n",
        "print(\"Size of test set: %d\" %X_test.shape[0])\n",
        "\n",
        "print('First training sample')\n",
        "id = 0\n",
        "print(\"    x_train_%d = %r\" %(id,X_train[id]))\n",
        "print(\"    y_train_%d = %r ['%s']\" %(id,y_train[id],class_names[y_train[id]]))\n",
        "\n",
        "print('First test sample')\n",
        "id = 0\n",
        "print(\"    x_test_%d = %r\" %(id,X_test[id]))\n",
        "print(\"    y_test_%d = %r ['%s']\" %(id,y_test[id],class_names[y_test[id]]))\n"
      ]
    },
    {
      "cell_type": "markdown",
      "metadata": {
        "id": "R6DMvR8TzJiK"
      },
      "source": [
        "## Create a Model \n",
        "\n",
        "Define the model that will be used for learning.\n",
        "\n",
        "Create an instance of a class implementing a classification method.\n",
        "\n"
      ]
    },
    {
      "cell_type": "markdown",
      "metadata": {
        "id": "6wF3ZBlifcdK"
      },
      "source": [
        "**Decision Trees**\n",
        "\n",
        "https://scikit-learn.org/stable/modules/generated/sklearn.tree.DecisionTreeClassifier.html#sklearn.tree.DecisionTreeClassifier"
      ]
    },
    {
      "cell_type": "code",
      "execution_count": 10,
      "metadata": {
        "id": "FQekMBE3fhWm"
      },
      "outputs": [],
      "source": [
        "model = tree.DecisionTreeClassifier()"
      ]
    },
    {
      "cell_type": "markdown",
      "metadata": {
        "id": "y7dPHeFNH_mI"
      },
      "source": [
        "**Support Vector Machines**\n",
        "\n",
        "https://scikit-learn.org/stable/modules/generated/sklearn.svm.SVC.html?highlight=svm%20svc#sklearn.svm.SVC"
      ]
    },
    {
      "cell_type": "code",
      "execution_count": 29,
      "metadata": {
        "id": "FDioTwgArEH7"
      },
      "outputs": [],
      "source": [
        "# C = 1 -> Regularization parameter\n",
        "# Kernel = 'linear' -> Specifies the kernel type to be used in the algorithm (‘linear’, ‘poly’, ‘rbf’, ‘sigmoid’, ‘precomputed’)\n",
        "model = svm.SVC(kernel='linear', C=1)"
      ]
    },
    {
      "cell_type": "markdown",
      "metadata": {
        "id": "T9EuWXAhGxw-"
      },
      "source": [
        "Probabilistic generative model \n",
        "\n",
        "**Gaussian Naive Bayes**\n",
        "\n",
        "https://scikit-learn.org/stable/modules/generated/sklearn.naive_bayes.GaussianNB.html?highlight=gaussiannb#sklearn.naive_bayes.GaussianNB\n"
      ]
    },
    {
      "cell_type": "code",
      "execution_count": 12,
      "metadata": {
        "id": "Ul0R20-HGPjD"
      },
      "outputs": [],
      "source": [
        "model = GaussianNB()"
      ]
    },
    {
      "cell_type": "markdown",
      "metadata": {
        "id": "21sijhYOHa0q"
      },
      "source": [
        "Probabilistic discriminative model\n",
        "\n",
        "**Logistic regression**\n",
        "\n",
        "https://scikit-learn.org/stable/modules/generated/sklearn.linear_model.LogisticRegression.html?highlight=logisticregression#sklearn.linear_model.LogisticRegression\n"
      ]
    },
    {
      "cell_type": "code",
      "execution_count": 13,
      "metadata": {
        "id": "cFR5WkyKHzB4"
      },
      "outputs": [],
      "source": [
        "model = LogisticRegression()"
      ]
    },
    {
      "cell_type": "markdown",
      "metadata": {
        "id": "PmorfnRhHaw8"
      },
      "source": [
        "## Fit the model\n",
        "\n",
        "Finding a solution for this model given the data set.\n",
        "The solution is stored in the model object.\n"
      ]
    },
    {
      "cell_type": "code",
      "execution_count": 30,
      "metadata": {
        "colab": {
          "base_uri": "https://localhost:8080/"
        },
        "id": "vaBApsjDHxrY",
        "outputId": "b10a7706-404a-49b3-8a6a-597d32ae0ad8"
      },
      "outputs": [
        {
          "data": {
            "text/html": [
              "<style>#sk-container-id-2 {color: black;background-color: white;}#sk-container-id-2 pre{padding: 0;}#sk-container-id-2 div.sk-toggleable {background-color: white;}#sk-container-id-2 label.sk-toggleable__label {cursor: pointer;display: block;width: 100%;margin-bottom: 0;padding: 0.3em;box-sizing: border-box;text-align: center;}#sk-container-id-2 label.sk-toggleable__label-arrow:before {content: \"▸\";float: left;margin-right: 0.25em;color: #696969;}#sk-container-id-2 label.sk-toggleable__label-arrow:hover:before {color: black;}#sk-container-id-2 div.sk-estimator:hover label.sk-toggleable__label-arrow:before {color: black;}#sk-container-id-2 div.sk-toggleable__content {max-height: 0;max-width: 0;overflow: hidden;text-align: left;background-color: #f0f8ff;}#sk-container-id-2 div.sk-toggleable__content pre {margin: 0.2em;color: black;border-radius: 0.25em;background-color: #f0f8ff;}#sk-container-id-2 input.sk-toggleable__control:checked~div.sk-toggleable__content {max-height: 200px;max-width: 100%;overflow: auto;}#sk-container-id-2 input.sk-toggleable__control:checked~label.sk-toggleable__label-arrow:before {content: \"▾\";}#sk-container-id-2 div.sk-estimator input.sk-toggleable__control:checked~label.sk-toggleable__label {background-color: #d4ebff;}#sk-container-id-2 div.sk-label input.sk-toggleable__control:checked~label.sk-toggleable__label {background-color: #d4ebff;}#sk-container-id-2 input.sk-hidden--visually {border: 0;clip: rect(1px 1px 1px 1px);clip: rect(1px, 1px, 1px, 1px);height: 1px;margin: -1px;overflow: hidden;padding: 0;position: absolute;width: 1px;}#sk-container-id-2 div.sk-estimator {font-family: monospace;background-color: #f0f8ff;border: 1px dotted black;border-radius: 0.25em;box-sizing: border-box;margin-bottom: 0.5em;}#sk-container-id-2 div.sk-estimator:hover {background-color: #d4ebff;}#sk-container-id-2 div.sk-parallel-item::after {content: \"\";width: 100%;border-bottom: 1px solid gray;flex-grow: 1;}#sk-container-id-2 div.sk-label:hover label.sk-toggleable__label {background-color: #d4ebff;}#sk-container-id-2 div.sk-serial::before {content: \"\";position: absolute;border-left: 1px solid gray;box-sizing: border-box;top: 0;bottom: 0;left: 50%;z-index: 0;}#sk-container-id-2 div.sk-serial {display: flex;flex-direction: column;align-items: center;background-color: white;padding-right: 0.2em;padding-left: 0.2em;position: relative;}#sk-container-id-2 div.sk-item {position: relative;z-index: 1;}#sk-container-id-2 div.sk-parallel {display: flex;align-items: stretch;justify-content: center;background-color: white;position: relative;}#sk-container-id-2 div.sk-item::before, #sk-container-id-2 div.sk-parallel-item::before {content: \"\";position: absolute;border-left: 1px solid gray;box-sizing: border-box;top: 0;bottom: 0;left: 50%;z-index: -1;}#sk-container-id-2 div.sk-parallel-item {display: flex;flex-direction: column;z-index: 1;position: relative;background-color: white;}#sk-container-id-2 div.sk-parallel-item:first-child::after {align-self: flex-end;width: 50%;}#sk-container-id-2 div.sk-parallel-item:last-child::after {align-self: flex-start;width: 50%;}#sk-container-id-2 div.sk-parallel-item:only-child::after {width: 0;}#sk-container-id-2 div.sk-dashed-wrapped {border: 1px dashed gray;margin: 0 0.4em 0.5em 0.4em;box-sizing: border-box;padding-bottom: 0.4em;background-color: white;}#sk-container-id-2 div.sk-label label {font-family: monospace;font-weight: bold;display: inline-block;line-height: 1.2em;}#sk-container-id-2 div.sk-label-container {text-align: center;}#sk-container-id-2 div.sk-container {/* jupyter's `normalize.less` sets `[hidden] { display: none; }` but bootstrap.min.css set `[hidden] { display: none !important; }` so we also need the `!important` here to be able to override the default hidden behavior on the sphinx rendered scikit-learn.org. See: https://github.com/scikit-learn/scikit-learn/issues/21755 */display: inline-block !important;position: relative;}#sk-container-id-2 div.sk-text-repr-fallback {display: none;}</style><div id=\"sk-container-id-2\" class=\"sk-top-container\"><div class=\"sk-text-repr-fallback\"><pre>SVC(C=1, kernel=&#x27;linear&#x27;)</pre><b>In a Jupyter environment, please rerun this cell to show the HTML representation or trust the notebook. <br />On GitHub, the HTML representation is unable to render, please try loading this page with nbviewer.org.</b></div><div class=\"sk-container\" hidden><div class=\"sk-item\"><div class=\"sk-estimator sk-toggleable\"><input class=\"sk-toggleable__control sk-hidden--visually\" id=\"sk-estimator-id-2\" type=\"checkbox\" checked><label for=\"sk-estimator-id-2\" class=\"sk-toggleable__label sk-toggleable__label-arrow\">SVC</label><div class=\"sk-toggleable__content\"><pre>SVC(C=1, kernel=&#x27;linear&#x27;)</pre></div></div></div></div></div>"
            ],
            "text/plain": [
              "SVC(C=1, kernel='linear')"
            ]
          },
          "execution_count": 30,
          "metadata": {},
          "output_type": "execute_result"
        }
      ],
      "source": [
        "model.fit(X_train, y_train)"
      ]
    },
    {
      "cell_type": "markdown",
      "metadata": {
        "id": "XYkjEL1ozy_r"
      },
      "source": [
        "### Plot the decision tree\n"
      ]
    },
    {
      "cell_type": "code",
      "execution_count": 15,
      "metadata": {
        "id": "pRGzfVuNzWni"
      },
      "outputs": [
        {
          "name": "stdout",
          "output_type": "stream",
          "text": [
            "Please, select the DecisionTree model first, then re-execute this cell.\n"
          ]
        }
      ],
      "source": [
        "# This cell can only be executed if we have chosen a DecisionTrees model.\n",
        "if isinstance(model, tree.DecisionTreeClassifier):\n",
        "  tree.plot_tree(model,fontsize=11)\n",
        "  plt.rcParams[\"figure.figsize\"] = (3,3)\n",
        "  plt.show()\n",
        "else:\n",
        "  print(\"Please, select the DecisionTree model first, then re-execute this cell.\")"
      ]
    },
    {
      "cell_type": "markdown",
      "metadata": {
        "id": "MEiAh78A24DZ"
      },
      "source": [
        "## Predict on test set\n",
        "\n",
        "Use test set for prediction."
      ]
    },
    {
      "cell_type": "code",
      "execution_count": 31,
      "metadata": {
        "id": "ZsEXCZ0A20C8"
      },
      "outputs": [
        {
          "name": "stdout",
          "output_type": "stream",
          "text": [
            "Shape of 'y_pred': 599\n",
            "Shape of 'y_test': 599\n"
          ]
        }
      ],
      "source": [
        "# X_test contains the inputs reserved for testing purposes.\n",
        "# This was done above at cell n.9.\n",
        "y_pred = model.predict(X_test)\n",
        "\n",
        "# y_pred is the prediction vector generated by the model,\n",
        "# while y_test is the ground-truth vector for the x_test vector.\n",
        "print(F\"Shape of 'y_pred': {y_pred.shape[0]}\")\n",
        "print(F\"Shape of 'y_test': {y_test.shape[0]}\")\n"
      ]
    },
    {
      "cell_type": "markdown",
      "metadata": {
        "id": "825hsaiDgj2U"
      },
      "source": [
        "#### Use this statement to generate a prediction vector of all values '1' useful to test performance with the Unblanced Digits dataset.\n",
        "\n"
      ]
    },
    {
      "cell_type": "code",
      "execution_count": 17,
      "metadata": {
        "id": "M8ogH5F_hDO9"
      },
      "outputs": [],
      "source": [
        "# Result of model that predicts only 1 (for unblanced digits)\n",
        "y_pred = np.ones(len(X_test))"
      ]
    },
    {
      "cell_type": "markdown",
      "metadata": {
        "id": "LfDeJb0Juofu"
      },
      "source": [
        "## Evaluate the Model\n",
        "\n",
        "Evaluation of a specific solution on the test set, comparing predicted values `y_pred` with ground-truth test values `y_test`."
      ]
    },
    {
      "cell_type": "markdown",
      "metadata": {
        "id": "NKD7632rv-xZ"
      },
      "source": [
        "### Accuracy"
      ]
    },
    {
      "cell_type": "code",
      "execution_count": 32,
      "metadata": {
        "colab": {
          "base_uri": "https://localhost:8080/"
        },
        "id": "P0N3cUSazRcJ",
        "outputId": "b9b5d518-a8e7-4f30-b44f-f614d24c31a1"
      },
      "outputs": [
        {
          "name": "stdout",
          "output_type": "stream",
          "text": [
            "Accuracy 0.9783\n"
          ]
        }
      ],
      "source": [
        "# By default, the score method does not need the actual predictions. So, when we call this function\n",
        "# it makes predictions using X_test under the hood and uses those predictions to calculate the accuracy score.\n",
        "acc = model.score(X_test, y_test)\n",
        "print(\"Accuracy %.4f\" %acc)"
      ]
    },
    {
      "cell_type": "markdown",
      "metadata": {
        "id": "4zY5aEGWwMj1"
      },
      "source": [
        "### Precision & Recall\n",
        "\n",
        "Classification report contains more accurate performance information."
      ]
    },
    {
      "cell_type": "code",
      "execution_count": 33,
      "metadata": {
        "colab": {
          "base_uri": "https://localhost:8080/"
        },
        "id": "G2bdFwMhwLJN",
        "outputId": "93e795ce-d6af-42f6-df89-4018e640b433"
      },
      "outputs": [
        {
          "name": "stdout",
          "output_type": "stream",
          "text": [
            "              precision    recall  f1-score   support\n",
            "\n",
            "           0      1.000     1.000     1.000        67\n",
            "           1      0.964     0.982     0.973        55\n",
            "           2      1.000     1.000     1.000        59\n",
            "           3      1.000     0.966     0.983        59\n",
            "           4      0.982     1.000     0.991        55\n",
            "           5      0.940     0.969     0.955        65\n",
            "           6      1.000     0.985     0.992        66\n",
            "           7      0.984     1.000     0.992        61\n",
            "           8      0.943     0.926     0.935        54\n",
            "           9      0.965     0.948     0.957        58\n",
            "\n",
            "    accuracy                          0.978       599\n",
            "   macro avg      0.978     0.978     0.978       599\n",
            "weighted avg      0.978     0.978     0.978       599\n",
            "\n"
          ]
        }
      ],
      "source": [
        "print(classification_report(y_test, y_pred, labels=None, target_names=class_names, digits=3))\n"
      ]
    },
    {
      "cell_type": "markdown",
      "metadata": {
        "id": "q1EwWO9m3bGg"
      },
      "source": [
        "### Confusion Matrix\n",
        "\n",
        "Shows the results in a graphical form."
      ]
    },
    {
      "cell_type": "code",
      "execution_count": 34,
      "metadata": {
        "colab": {
          "base_uri": "https://localhost:8080/",
          "height": 781
        },
        "id": "IGOYxPNzy3vy",
        "outputId": "3eab10a1-4fe8-483b-9c99-a940b1a5163b"
      },
      "outputs": [
        {
          "name": "stdout",
          "output_type": "stream",
          "text": [
            "[[67  0  0  0  0  0  0  0  0  0]\n",
            " [ 0 54  0  0  0  0  0  0  1  0]\n",
            " [ 0  0 59  0  0  0  0  0  0  0]\n",
            " [ 0  0  0 57  0  0  0  0  2  0]\n",
            " [ 0  0  0  0 55  0  0  0  0  0]\n",
            " [ 0  0  0  0  0 63  0  0  0  2]\n",
            " [ 0  1  0  0  0  0 65  0  0  0]\n",
            " [ 0  0  0  0  0  0  0 61  0  0]\n",
            " [ 0  1  0  0  1  2  0  0 50  0]\n",
            " [ 0  0  0  0  0  2  0  1  0 55]]\n"
          ]
        },
        {
          "data": {
            "text/plain": [
              "<AxesSubplot: title={'center': 'Confusion matrix, without normalization'}, xlabel='Predicted label', ylabel='True label'>"
            ]
          },
          "execution_count": 34,
          "metadata": {},
          "output_type": "execute_result"
        },
        {
          "data": {
            "image/png": "[encoded data removed]",
            "text/plain": [
              "<Figure size 1000x1000 with 2 Axes>"
            ]
          },
          "metadata": {},
          "output_type": "display_data"
        }
      ],
      "source": [
        "cm = confusion_matrix(y_test, y_pred, labels=None, sample_weight=None)\n",
        "print(cm)\n",
        "plt.rcParams[\"figure.figsize\"] = (10,10)\n",
        "plot_confusion_matrix(y_test, y_pred, classes=class_names, normalize=False)"
      ]
    },
    {
      "cell_type": "markdown",
      "metadata": {
        "id": "xFH2OgGotJ76"
      },
      "source": [
        "## Evaluate a specific instance of a method\n",
        "\n",
        "Evaluation of a specific method with instantiated hyper-parameters\n",
        "through Cross Validation\n",
        "\n"
      ]
    },
    {
      "cell_type": "code",
      "execution_count": 35,
      "metadata": {
        "colab": {
          "base_uri": "https://localhost:8080/"
        },
        "id": "IrxPaAovtV3z",
        "outputId": "87bc9337-fb26-40ac-e7ba-ba15c0664a18"
      },
      "outputs": [
        {
          "name": "stdout",
          "output_type": "stream",
          "text": [
            "[0.97996661 0.97328881 0.97996661 0.97829716 0.97161937]\n",
            "Accuracy: 0.977 (+/- 0.01)\n"
          ]
        }
      ],
      "source": [
        "# K-Fold Cross Validation \n",
        "cv = ShuffleSplit(n_splits=5, test_size=0.333, random_state=15)\n",
        "scores = cross_val_score(model, X_all, y_all, cv=cv)\n",
        "print(scores)\n",
        "print(\"Accuracy: %0.3f (+/- %0.2f)\" % (scores.mean(), scores.std() * 2))"
      ]
    },
    {
      "cell_type": "markdown",
      "metadata": {
        "id": "0hVbM8WLrXMh"
      },
      "source": [
        "## Prediction of a new sample"
      ]
    },
    {
      "cell_type": "code",
      "execution_count": 36,
      "metadata": {
        "colab": {
          "base_uri": "https://localhost:8080/"
        },
        "id": "rIFijWnPrc2L",
        "outputId": "dca45f0e-3f4a-4e53-b2d0-356c22b94e00"
      },
      "outputs": [
        {
          "name": "stdout",
          "output_type": "stream",
          "text": [
            "New input 'x_new' = array([[ 0,  0,  8, 13, 18, 13, 11,  1,  0, 10,  9,  4,  6, 16,  3,  0,\n",
            "         0,  0,  0, 10,  1, 13,  0,  0,  0,  0,  0,  7, 14,  2,  0,  0,\n",
            "         0,  0,  0,  7, 13,  1,  0,  0,  0,  0,  0,  0,  8, 13,  1,  0,\n",
            "         0,  0,  0,  0, 13,  6,  7,  1,  0,  0, 14, 12, 13,  1,  0,  0]])\n",
            "Prediction of this new input 'x_new' = 3 ['3']\n"
          ]
        }
      ],
      "source": [
        "if dataset_name == \"Iris\":\n",
        "  xnew = np.array([8.5, 2.6, 9.2, 0.3])\n",
        "elif dataset_name == \"Wines\":\n",
        "  xnew = np.array([12, 2.5, 2.6, 15, 186, 1.5, 9.1,\n",
        "                   0.44, 2.2, 5.6, 2.9, 3.7, 380])\n",
        "elif dataset_name == \"Digits\" or dataset_name == \"Digits_01_unbalanced\":\n",
        "   xnew = np.array([  \n",
        "        0,  0,  8, 13, 18, 13, 11,  1,  0, 10,  9,  4,  6,\n",
        "       16,  3,  0,  0,  0,  0, 10,  1, 13,  0,  0,  0,  0,\n",
        "        0,  7, 14,  2,  0,  0,  0,  0,  0,  7, 13,  1,  0,\n",
        "        0,  0,  0,  0,  0,  8, 13,  1,  0,  0,  0,  0,  0,\n",
        "       13,  6,  7,  1,  0,  0, 14, 12, 13,  1,  0,  0])\n",
        " \n",
        "xnew = xnew.reshape(1,-1)\n",
        "print(\"New input 'x_new' = %r\" %(xnew))\n",
        "\n",
        "# Let the model predict a vector over this new input\n",
        "ynew = model.predict(xnew)\n",
        "\n",
        "print(\"Prediction of this new input 'x_new' = %d %s\" %(ynew,class_names[ynew]))\n",
        "\n",
        "# only for probabilistic models\n",
        "try:\n",
        "  mconf = np.max(model.predict_proba(xnew))\n",
        "  print(\"Confidence: %.2f\" %(mconf))\n",
        "except:\n",
        "  pass  "
      ]
    },
    {
      "cell_type": "markdown",
      "metadata": {
        "id": "66VfEN_m6lVJ"
      },
      "source": [
        "## Common Mistake\n",
        "\n",
        "Evaluate solution on data used for training!!! (This was pointed out at cell n.18)\n"
      ]
    },
    {
      "cell_type": "code",
      "execution_count": 23,
      "metadata": {
        "colab": {
          "base_uri": "https://localhost:8080/"
        },
        "id": "R1PgiDeh6j4m",
        "outputId": "ca88a5c7-7a8f-4383-cdb5-dc053cb35ea3"
      },
      "outputs": [
        {
          "data": {
            "text/plain": [
              "1.0"
            ]
          },
          "execution_count": 23,
          "metadata": {},
          "output_type": "execute_result"
        }
      ],
      "source": [
        "model.score(X_all,y_all)"
      ]
    },
    {
      "cell_type": "markdown",
      "metadata": {
        "id": "a-aJYM3JXRyN"
      },
      "source": [
        "## Home Exercises\n",
        "\n",
        "**Question 1**\n",
        "\n",
        "Design an evaluation procedure to assess and compare the different performance of the classifcation models seen above on the Digits dataset\n",
        "\n",
        "**Question 2** \n",
        "\n",
        "Consider the Unbalanced Digits dataset and compare one of the above classification method with the classifier that always returns the most common label in the dataset. \n",
        "Which performance metrics are significant in this comparison?\n",
        "\n",
        "\n",
        "  \n"
      ]
    }
  ],
  "metadata": {
    "colab": {
      "collapsed_sections": [],
      "provenance": [],
      "toc_visible": true
    },
    "kernelspec": {
      "display_name": "Python 3.9.13 ('tf')",
      "language": "python",
      "name": "python3"
    },
    "language_info": {
      "codemirror_mode": {
        "name": "ipython",
        "version": 3
      },
      "file_extension": ".py",
      "mimetype": "text/x-python",
      "name": "python",
      "nbconvert_exporter": "python",
      "pygments_lexer": "ipython3",
      "version": "3.9.13"
    },
    "vscode": {
      "interpreter": {
        "hash": "b63788f291241870278dbb9e644c0fb8fdb51a5e69b8360d07cc76ffa05d127b"
      }
    }
  },
  "nbformat": 4,
  "nbformat_minor": 0
}
