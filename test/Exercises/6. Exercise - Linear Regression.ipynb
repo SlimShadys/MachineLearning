{
  "cells": [
    {
      "cell_type": "markdown",
      "metadata": {
        "id": "K1Ldrsw3gyYK"
      },
      "source": [
        "# Machine Learning - Exercise 6\n",
        "# Linear/kernel Regression\n",
        "\n",
        "Example adapted from \n",
        "https://scikit-learn.org/stable/auto_examples/linear_model/plot_ols.html#sphx-glr-auto-examples-linear-model-plot-ols-py"
      ]
    },
    {
      "cell_type": "markdown",
      "metadata": {
        "id": "4HDgIK66g8oc"
      },
      "source": [
        "## Import libraries and load data set\n",
        "\n",
        "Using [Diabetes dataset](https://scikit-learn.org/stable/datasets/toy_dataset.html#diabetes-dataset)\n",
        "\n",
        "For visualization purposes, data set is reduced to 1 dimension."
      ]
    },
    {
      "cell_type": "code",
      "execution_count": 1,
      "metadata": {
        "colab": {
          "base_uri": "https://localhost:8080/"
        },
        "id": "vGM7ZZulbRfT",
        "outputId": "168edccd-6af9-4503-bfea-9e582c80a379"
      },
      "outputs": [
        {
          "name": "stdout",
          "output_type": "stream",
          "text": [
            "Dataset: diabetes\n",
            "Number of features: 10\n",
            "Number of samples: 442\n",
            "Training set size: 422\n",
            "Test set size: 20\n",
            "Target range: [25.0, 346.0]\n"
          ]
        }
      ],
      "source": [
        "import matplotlib.pyplot as plt\n",
        "import numpy as np\n",
        "from sklearn import datasets, linear_model\n",
        "from sklearn.metrics import mean_squared_error, r2_score\n",
        "from sklearn.svm import SVR\n",
        "\n",
        "# Load the diabetes dataset\n",
        "diabetes = datasets.load_diabetes()\n",
        "\n",
        "print('Dataset: diabetes')\n",
        "print('Number of features: %d' %diabetes.data.shape[1])\n",
        "print('Number of samples: %d' %diabetes.data.shape[0])\n",
        "\n",
        "# Use only one feature\n",
        "diabetes_X = diabetes.data[:, np.newaxis, 2]\n",
        "\n",
        "# Split the data into training/testing sets\n",
        "diabetes_X_train = diabetes_X[:-20]\n",
        "diabetes_X_test = diabetes_X[-20:]\n",
        "\n",
        "# Split the targets into training/testing sets\n",
        "diabetes_y_train = diabetes.target[:-20]\n",
        "diabetes_y_test = diabetes.target[-20:]\n",
        "\n",
        "print('Training set size: %d' %len(diabetes_X_train))\n",
        "print('Test set size: %d' %len(diabetes_X_test))\n",
        "\n",
        "print('Target range: [%.1f, %.1f]' %(min(diabetes.target),max(diabetes.target)))"
      ]
    },
    {
      "cell_type": "markdown",
      "metadata": {
        "id": "me8_rH3ahELo"
      },
      "source": [
        "## Train regression model\n",
        "\n",
        "*   Linear regression ([info](https://scikit-learn.org/stable/modules/generated/sklearn.linear_model.LinearRegression.html))\n",
        "*   SVM with linear kernel ([info](https://scikit-learn.org/stable/modules/generated/sklearn.svm.SVR.html))\n",
        "*   SVM with polynomial kernel ([info](https://scikit-learn.org/stable/modules/generated/sklearn.svm.SVR.html))\n",
        "\n",
        "\n"
      ]
    },
    {
      "cell_type": "code",
      "execution_count": 2,
      "metadata": {
        "id": "k3b_tqSabpU9"
      },
      "outputs": [],
      "source": [
        "model_type = \"linear_regression\"  # \"linear_regression\", \"linear_svm\", \"poly_svm\"\n",
        "\n",
        "if model_type == \"linear_regression\":\n",
        "  # Create linear regression object\n",
        "  model = linear_model.LinearRegression()\n",
        "  # Train the model using the training sets\n",
        "  model.fit(diabetes_X_train, diabetes_y_train)\n",
        "\n",
        "elif model_type == \"linear_svm\":\n",
        "  # SVM regression\n",
        "  model = SVR(kernel='linear', C=1.5)\n",
        "  # Train the model using the training sets\n",
        "  model.fit(diabetes_X_train, diabetes_y_train)\n",
        "\n",
        "elif model_type == \"poly_svm\":\n",
        "  # SVM polynomial regression\n",
        "  model = SVR(kernel='poly', C=1.5, degree=3, gamma='scale')\n",
        "  # Train the model using the training sets\n",
        "  model.fit(diabetes_X_train, diabetes_y_train)\n"
      ]
    },
    {
      "cell_type": "markdown",
      "metadata": {
        "id": "FZBE0gClhWRM"
      },
      "source": [
        "## Prediction"
      ]
    },
    {
      "cell_type": "code",
      "execution_count": 3,
      "metadata": {
        "colab": {
          "base_uri": "https://localhost:8080/"
        },
        "id": "nkM89Q6ehYWG",
        "outputId": "74553c05-5011-4cd8-d8b3-24f9e7fe7da0"
      },
      "outputs": [
        {
          "name": "stdout",
          "output_type": "stream",
          "text": [
            "Mean squared error: 2548.07\n",
            "Regression score: 0.47\n"
          ]
        }
      ],
      "source": [
        "# Make predictions using the testing set\n",
        "diabetes_y_pred = model.predict(diabetes_X_test)\n",
        "\n",
        "# The mean squared error\n",
        "print(\"Mean squared error: %.2f\"\n",
        "      % mean_squared_error(diabetes_y_test, diabetes_y_pred))\n",
        "\n",
        "# R2 regression score: 1 is perfect prediction\n",
        "print('Regression score: %.2f' % r2_score(diabetes_y_test, diabetes_y_pred))\n"
      ]
    },
    {
      "cell_type": "markdown",
      "metadata": {
        "id": "dGhr0v7ohRnj"
      },
      "source": [
        "## Plot results"
      ]
    },
    {
      "cell_type": "code",
      "execution_count": 4,
      "metadata": {
        "colab": {
          "base_uri": "https://localhost:8080/",
          "height": 252
        },
        "id": "sRsKTn2cbkre",
        "outputId": "0fc6d8a0-25da-4ec5-8e3c-caf1ea21dd58"
      },
      "outputs": [
        {
          "data": {
            "image/png": "[encoded data removed]",
            "text/plain": [
              "<Figure size 640x480 with 1 Axes>"
            ]
          },
          "metadata": {},
          "output_type": "display_data"
        }
      ],
      "source": [
        "# Plot outputs\n",
        "plt.scatter(diabetes_X_test, diabetes_y_test,  color='black')\n",
        "plt.scatter(diabetes_X_test, diabetes_y_pred, color='red', linewidth=3)\n",
        "\n",
        "plt.xticks(())\n",
        "plt.yticks(())\n",
        "plt.show()"
      ]
    },
    {
      "cell_type": "markdown",
      "metadata": {
        "id": "u7O88O8OCjgB"
      },
      "source": [
        "# Home Exercises\n",
        "\n",
        "Tune the SVM regressors on a held-out validation set."
      ]
    },
    {
      "cell_type": "markdown",
      "metadata": {},
      "source": [
        "\n",
        "**Question 1**\n",
        "\n",
        "Consider the hyper-parameter C in the Linear SVM and plot the testing performance as the paramater varies."
      ]
    },
    {
      "cell_type": "code",
      "execution_count": 5,
      "metadata": {},
      "outputs": [
        {
          "name": "stdout",
          "output_type": "stream",
          "text": [
            "Mean squared error with C = 1.5 : 4988.16\n",
            "Mean squared error with C = 5.0 : 4842.50\n",
            "Mean squared error with C = 0.2 : 5054.90\n",
            "Regression score with C = 1.5 : -0.03\n",
            "Regression score with C = 5.0 : -0.00\n",
            "Regression score with C = 0.2 : -0.05\n"
          ]
        },
        {
          "data": {
            "image/png": "[encoded data removed]",
            "text/plain": [
              "<Figure size 640x480 with 1 Axes>"
            ]
          },
          "metadata": {},
          "output_type": "display_data"
        }
      ],
      "source": [
        "regularization_1 = 1.5\n",
        "regularization_2 = 5.0\n",
        "regularization_3 = 0.2\n",
        "\n",
        "model_1 = SVR(kernel='linear', C=regularization_1)\n",
        "model_2 = SVR(kernel='linear', C=regularization_2)\n",
        "model_3 = SVR(kernel='linear', C=regularization_3)\n",
        "\n",
        "# Train the model using the training sets\n",
        "model_1.fit(diabetes_X_train, diabetes_y_train)\n",
        "model_2.fit(diabetes_X_train, diabetes_y_train)\n",
        "model_3.fit(diabetes_X_train, diabetes_y_train)\n",
        "\n",
        "# Make predictions using the testing set\n",
        "diabetes_y_pred_1 = model_1.predict(diabetes_X_test)\n",
        "diabetes_y_pred_2 = model_2.predict(diabetes_X_test)\n",
        "diabetes_y_pred_3 = model_3.predict(diabetes_X_test)\n",
        "\n",
        "# The mean squared error\n",
        "print(\"Mean squared error with C = %.1f : %.2f\" % (regularization_1, mean_squared_error(diabetes_y_test, diabetes_y_pred_1)))\n",
        "print(\"Mean squared error with C = %.1f : %.2f\" % (regularization_2, mean_squared_error(diabetes_y_test, diabetes_y_pred_2)))\n",
        "print(\"Mean squared error with C = %.1f : %.2f\" % (regularization_3, mean_squared_error(diabetes_y_test, diabetes_y_pred_3)))\n",
        "\n",
        "# R2 regression score: 1 is perfect prediction\n",
        "print('Regression score with C = %.1f : %.2f' % (regularization_1, r2_score(diabetes_y_test, diabetes_y_pred_1)))\n",
        "print('Regression score with C = %.1f : %.2f' % (regularization_2, r2_score(diabetes_y_test, diabetes_y_pred_2)))\n",
        "print('Regression score with C = %.1f : %.2f' % (regularization_3, r2_score(diabetes_y_test, diabetes_y_pred_3)))\n",
        "\n",
        "plt.scatter(diabetes_X_test, diabetes_y_test,  color='black')\n",
        "plt.scatter(diabetes_X_test, diabetes_y_pred_1, color='red', linewidth=1.5)\n",
        "plt.scatter(diabetes_X_test, diabetes_y_pred_2, color='blue', linewidth=1.5)\n",
        "plt.scatter(diabetes_X_test, diabetes_y_pred_3, color='green', linewidth=1.5)\n",
        "plt.xticks(())\n",
        "plt.yticks(())\n",
        "plt.show()\n"
      ]
    },
    {
      "cell_type": "markdown",
      "metadata": {},
      "source": [
        "\n",
        "**Question 2**\n",
        "\n",
        "Consider the hyper-parameters C and degree of the polynomial in the Polynomial SVM. Perform a grid search and show the obtained results."
      ]
    },
    {
      "cell_type": "code",
      "execution_count": 17,
      "metadata": {},
      "outputs": [
        {
          "name": "stdout",
          "output_type": "stream",
          "text": [
            "Mean squared error with C = 1.0 and degree = 3 : 3174.68\n",
            "Mean squared error with C = 3.0 and degree = 1 : 2308.89\n",
            "Mean squared error with C = 7.0 and degree = 7 : 4968.84\n",
            "Regression score with C = 1.0 and degree = 3 : 0.34\n",
            "Regression score with C = 3.0 and degree = 1 : 0.52\n",
            "Regression score with C = 7.0 and degree = 7 : -0.03\n"
          ]
        },
        {
          "data": {
            "image/png": "[encoded data removed]",
            "text/plain": [
              "<Figure size 640x480 with 1 Axes>"
            ]
          },
          "metadata": {},
          "output_type": "display_data"
        },
        {
          "name": "stdout",
          "output_type": "stream",
          "text": [
            "\n",
            "\n",
            "Grid Search for Regression\n",
            "\n",
            "\n",
            "Fitting 5 folds for each of 1176 candidates, totalling 5880 fits\n",
            "GridSearchCV(cv=5, estimator=SVR(kernel='poly'), n_jobs=-1,\n",
            "             param_grid={'C': array([0.1, 0.2, 0.3, 0.4, 0.5, 0.6, 0.7, 0.8, 0.9, 1. , 1.1, 1.2, 1.3,\n",
            "       1.4, 1.5, 1.6, 1.7, 1.8, 1.9, 2. , 2.1, 2.2, 2.3, 2.4, 2.5, 2.6,\n",
            "       2.7, 2.8, 2.9, 3. , 3.1, 3.2, 3.3, 3.4, 3.5, 3.6, 3.7, 3.8, 3.9,\n",
            "       4. , 4.1, 4.2, 4.3, 4.4, 4.5, 4.6, 4.7, 4.8, 4.9]),\n",
            "                         'degree': array([1, 2, 3, 4, 5, 6]),\n",
            "                         'kernel': ('linear', 'rbf', 'poly', 'sigmoid')},\n",
            "             scoring='r2', verbose=1)\n",
            "Best regression hyper-parameters: {'C': 2.5000000000000004, 'degree': 1, 'kernel': 'poly'}\n",
            "Best R2 score: 0.31\n"
          ]
        }
      ],
      "source": [
        "from sklearn.model_selection import GridSearchCV\n",
        "\n",
        "regularization_1 = 1.0\n",
        "regularization_2 = 3.0\n",
        "regularization_3 = 7.0\n",
        "degree_1 = 3\n",
        "degree_2 = 1\n",
        "degree_3 = 7\n",
        "\n",
        "model_1 = SVR(kernel='poly', C=regularization_1, degree=degree_1, gamma='scale')\n",
        "model_2 = SVR(kernel='poly', C=regularization_2, degree=degree_2, gamma='scale')\n",
        "model_3 = SVR(kernel='poly', C=regularization_3, degree=degree_3, gamma='scale')\n",
        "\n",
        "# Train the model using the training sets\n",
        "model_1.fit(diabetes_X_train, diabetes_y_train)\n",
        "model_2.fit(diabetes_X_train, diabetes_y_train)\n",
        "model_3.fit(diabetes_X_train, diabetes_y_train)\n",
        "\n",
        "# Make predictions using the testing set\n",
        "diabetes_y_pred_1 = model_1.predict(diabetes_X_test)\n",
        "diabetes_y_pred_2 = model_2.predict(diabetes_X_test)\n",
        "diabetes_y_pred_3 = model_3.predict(diabetes_X_test)\n",
        "\n",
        "# The mean squared error\n",
        "print(\"Mean squared error with C = %.1f and degree = %.0f : %.2f\" % (regularization_1, degree_1, mean_squared_error(diabetes_y_test, diabetes_y_pred_1)))\n",
        "print(\"Mean squared error with C = %.1f and degree = %.0f : %.2f\" % (regularization_2, degree_2, mean_squared_error(diabetes_y_test, diabetes_y_pred_2)))\n",
        "print(\"Mean squared error with C = %.1f and degree = %.0f : %.2f\" % (regularization_3, degree_3, mean_squared_error(diabetes_y_test, diabetes_y_pred_3)))\n",
        "\n",
        "# R2 regression score: 1 is perfect prediction\n",
        "print('Regression score with C = %.1f and degree = %.0f : %.2f' % (regularization_1, degree_1, r2_score(diabetes_y_test, diabetes_y_pred_1)))\n",
        "print('Regression score with C = %.1f and degree = %.0f : %.2f' % (regularization_2, degree_2, r2_score(diabetes_y_test, diabetes_y_pred_2)))\n",
        "print('Regression score with C = %.1f and degree = %.0f : %.2f' % (regularization_3, degree_3, r2_score(diabetes_y_test, diabetes_y_pred_3)))\n",
        "\n",
        "plt.scatter(diabetes_X_test, diabetes_y_test,  color='black')\n",
        "plt.scatter(diabetes_X_test, diabetes_y_pred_1, color='red', linewidth=1.5)\n",
        "plt.scatter(diabetes_X_test, diabetes_y_pred_2, color='blue', linewidth=1.5)\n",
        "plt.scatter(diabetes_X_test, diabetes_y_pred_3, color='green', linewidth=1.5)\n",
        "plt.xticks(())\n",
        "plt.yticks(())\n",
        "plt.show()\n",
        "\n",
        "# In this case we perform a Grid Sear\n",
        "grid_search_regression = GridSearchCV(model_1,\n",
        "                          # Here you can choose the parameters that you want to fit in the gridsearch.\n",
        "                          # In this case the gridsearch will find the best combination between 'C' and 'kernel'\n",
        "                           {\n",
        "                                'C':np.arange(0.1,5,0.1),\n",
        "                                #'kernel': ['poly'],                            \n",
        "                                'kernel': ('linear', 'rbf','poly','sigmoid'),\n",
        "                                'degree': np.arange(1,7,1),\n",
        "                            },cv=5, scoring=\"r2\",verbose=1,n_jobs=-1\n",
        "                           )\n",
        "print(\"\\n\\nGrid Search for Regression\\n\\n\")\n",
        "print(grid_search_regression.fit(diabetes_X_train,diabetes_y_train))\n",
        "\n",
        "#Best parameters for the regressor\n",
        "print(\"Best regression hyper-parameters: %r\" %grid_search_regression.best_params_)\n",
        "print(\"Best R2 score: %.2f\" %grid_search_regression.best_score_)\n"
      ]
    }
  ],
  "metadata": {
    "colab": {
      "collapsed_sections": [],
      "provenance": []
    },
    "kernelspec": {
      "display_name": "Python 3.9.13 ('base')",
      "language": "python",
      "name": "python3"
    },
    "language_info": {
      "codemirror_mode": {
        "name": "ipython",
        "version": 3
      },
      "file_extension": ".py",
      "mimetype": "text/x-python",
      "name": "python",
      "nbconvert_exporter": "python",
      "pygments_lexer": "ipython3",
      "version": "3.9.13"
    },
    "vscode": {
      "interpreter": {
        "hash": "0245dcb33ee754f1ac52eeb37726094d614f792ee661c1411187169ef218bd3b"
      }
    }
  },
  "nbformat": 4,
  "nbformat_minor": 0
}
